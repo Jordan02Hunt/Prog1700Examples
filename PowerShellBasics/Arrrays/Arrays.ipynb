{
 "cells": [
  {
   "cell_type": "code",
   "execution_count": 5,
   "metadata": {
    "dotnet_interactive": {
     "language": "pwsh"
    },
    "polyglot_notebook": {
     "kernelName": "pwsh"
    },
    "vscode": {
     "languageId": "polyglot-notebook"
    }
   },
   "outputs": [
    {
     "name": "stdout",
     "output_type": "stream",
     "text": [
      "John\n",
      "Jacob\n",
      "Jingle\n",
      "Hymer\n",
      "Schmitt\n",
      "John\n",
      "Jacob\n",
      "Jingle\n",
      "Hymer\n",
      "Schmitt\n"
     ]
    }
   ],
   "source": [
    "#method 1 not using Arrays\n",
    "$username1= \"John\"\n",
    "$username2= \"Jacob\"\n",
    "$username3= \"Jingle\"\n",
    "$username4= \"Hymer\"\n",
    "$username5= \"Schmitt\"\n",
    "\n",
    "Write-host $username1 \n",
    "Write-host $username2 \n",
    "Write-host $username3 \n",
    "Write-host $username4 \n",
    "Write-host $username5\n",
    "\n",
    "#Can this be done in a loop?\n",
    "for($i=1; $i -le 5; $i++){\n",
    "    Write-host (IEX \"`$Username$i\")\n",
    "}"
   ]
  },
  {
   "cell_type": "code",
   "execution_count": 6,
   "metadata": {
    "dotnet_interactive": {
     "language": "pwsh"
    },
    "polyglot_notebook": {
     "kernelName": "pwsh"
    },
    "vscode": {
     "languageId": "polyglot-notebook"
    }
   },
   "outputs": [
    {
     "name": "stdout",
     "output_type": "stream",
     "text": [
      "John Jacob Jingle hymer Schmitt\n",
      "Jacob\n",
      "Jingle\n",
      "hymer\n",
      "Schmitt\n",
      "\n",
      "Jacob\n",
      "Jingle\n",
      "hymer\n",
      "Schmitt\n",
      "John\n",
      "Jacob\n",
      "Jingle\n",
      "hymer\n",
      "Schmitt\n"
     ]
    }
   ],
   "source": [
    "#Method 2 Using Arrays\n",
    "$Username = \"John\", \"Jacob\", \"Jingle\", \"hymer\", \"Schmitt\"\n",
    "Write-host $Username\n",
    "$Usernames\n",
    "\n",
    "\n",
    "#Can this be done in a loop?\n",
    "for($i=1; $i -le 5; $i++){\n",
    "    Write-host $Username[$i]\n",
    "}\n",
    "#Can this be done in a loop?\n",
    "for($i=1; $i -lt $Username.length; $i++){\n",
    "    Write-host $Username[$i]\n",
    "}\n",
    "foreach($Username in $Username){\n",
    "    Write-host $Username\n",
    "}"
   ]
  },
  {
   "cell_type": "code",
   "execution_count": 9,
   "metadata": {
    "dotnet_interactive": {
     "language": "pwsh"
    },
    "polyglot_notebook": {
     "kernelName": "pwsh"
    },
    "vscode": {
     "languageId": "polyglot-notebook"
    }
   },
   "outputs": [
    {
     "name": "stdout",
     "output_type": "stream",
     "text": [
      "33681309\n",
      "40298195\n",
      "40298195\n"
     ]
    }
   ],
   "source": [
    "#Immutables vs mutables\n",
    "$username = \"John\", \"Jacob\", \"Jingle\", \"hymer\", \"Schmitt\"\n",
    "$username.GetHashCode()\n",
    "$username = \"John\", \"Jacob\", \"Jingle\", \"hymer\", \"Schmitt\"\n",
    "$username.GetHashCode()\n",
    "$username[0]=\"jake\"\n",
    "$username.GetHashCode()"
   ]
  },
  {
   "cell_type": "code",
   "execution_count": 10,
   "metadata": {
    "dotnet_interactive": {
     "language": "pwsh"
    },
    "polyglot_notebook": {
     "kernelName": "pwsh"
    },
    "vscode": {
     "languageId": "polyglot-notebook"
    }
   },
   "outputs": [
    {
     "name": "stdout",
     "output_type": "stream",
     "text": [
      "John Jacob Jingle hymer Schmitt\n",
      "John Jacob Jingle hymer Schmitt Jill\n"
     ]
    }
   ],
   "source": [
    "# add item to Arrays\n",
    "$username = \"John\", \"Jacob\", \"Jingle\", \"hymer\", \"Schmitt\"\n",
    "Write-Host $username\n",
    "$username+=\"Jill\"\n",
    "Write-host $username"
   ]
  },
  {
   "cell_type": "code",
   "execution_count": 26,
   "metadata": {
    "dotnet_interactive": {
     "language": "pwsh"
    },
    "polyglot_notebook": {
     "kernelName": "pwsh"
    },
    "vscode": {
     "languageId": "polyglot-notebook"
    }
   },
   "outputs": [
    {
     "name": "stdout",
     "output_type": "stream",
     "text": [
      "1 2 3 4 5\n",
      "\"\"\n",
      "a b c d\n",
      "cat\n",
      "String\n",
      "Object[]\n",
      "1\n",
      "1 2 3 4 5 6 7 8 9 10\n",
      "1 2 3 4 5 1 2 3 4 5 6 7 8 9 10\n",
      "cat dog\n",
      "1 2 3 4 5 10 11 12 13 14 15 20\n",
      "Object[]\n",
      "bottle 123 3.1415 head\n"
     ]
    }
   ],
   "source": [
    "#Creating Arrays\n",
    "$numbers=1,2,3,4,5\n",
    "Write-host $numbers\n",
    "\n",
    "$emptyarray= @()\n",
    "Write-host \"`\"$emptyarray`\"\"\n",
    "\n",
    "$oldmethod= @(\"a\",\"b\",\"c\",\"d\")\n",
    "Write-host $oldmethod\n",
    "\n",
    "$arraywithoneitem= @(\"cat\")\n",
    "Write-host $arraywithoneitem\n",
    "\n",
    "$notanarray=\"cat\"\n",
    "$notanarray.GetType().name\n",
    "\n",
    "$weirdarray=, \"dog\"\n",
    "$weirdarray.GetType().name\n",
    "\n",
    "$anotherarraywihtoneitem=,1\n",
    "$anotherarraywihtoneitem\n",
    "\n",
    "$arrayofnumbers=1..10\n",
    "Write-host $arrayofnumbers\n",
    "\n",
    "$newnumbers= $numbers+$arrayofnumbers\n",
    "write-host $newnumbers\n",
    "\n",
    "$newarray= $arraywithoneitem+$weirdarray\n",
    "Write-host $newarray\n",
    "\n",
    "$morenumbers= 1..5+10..15+20\n",
    "Write-host $morenumbers\n",
    "$morenumbers.GetType().name\n",
    "$things= \"bottle\", 123, 3.1415, \"head\"\n",
    "Write-Host $things"
   ]
  },
  {
   "cell_type": "code",
   "execution_count": 32,
   "metadata": {
    "dotnet_interactive": {
     "language": "pwsh"
    },
    "polyglot_notebook": {
     "kernelName": "pwsh"
    },
    "vscode": {
     "languageId": "polyglot-notebook"
    }
   },
   "outputs": [
    {
     "name": "stdout",
     "output_type": "stream",
     "text": [
      "Int32[]\n",
      "15\n"
     ]
    }
   ],
   "source": [
    "#change array data Type\n",
    "[int[]]$numbers= 1,2,3,4,5\n",
    "$numbers.GetType().name\n",
    "$sum=0\n",
    "foreach($num in $numbers){\n",
    "    $sum+=$num\n",
    "}\n",
    "$sum\n"
   ]
  },
  {
   "cell_type": "code",
   "execution_count": 48,
   "metadata": {
    "dotnet_interactive": {
     "language": "pwsh"
    },
    "polyglot_notebook": {
     "kernelName": "pwsh"
    },
    "vscode": {
     "languageId": "polyglot-notebook"
    }
   },
   "outputs": [
    {
     "name": "stdout",
     "output_type": "stream",
     "text": [
      "Batman\n",
      "Robin\n",
      "Santa\n",
      "Tinkerbell\n",
      "True\n",
      "Tinkerbell\n",
      "Batman Robin\n",
      "Batman Tinkerbell\n",
      "Batman Tinkerbell Santa Robin\n",
      "Robin Santa Tinkerbell Batman\n",
      "Batman Robin Tinkerbell Santa\n",
      "Batman Robin Santa Tinkerbell Batman Robin Santa Tinkerbell\n"
     ]
    }
   ],
   "source": [
    "$costumes= \"Batman\", \"Robin\", \"Santa\", \"Tinkerbell\"\n",
    "$costumes[0] #Batman \n",
    "$costumes[1] #Robin  \n",
    "$costumes[2] #Santa \n",
    "$costumes[3] #Tinkerbell \n",
    "$costumes[4]\n",
    "$nullvalue= $costumes[4]\n",
    "$nullvalue -eq $null\n",
    "$costumes[-1]\n",
    "Write-host $costumes[0..1] #Batman and Robin\n",
    "Write-host $costumes[0..-1]\n",
    "Write-host $costumes[0..-3]\n",
    "write-host $costumes[-3..0]\n",
    "Write-host $costumes[0..1+3+2]\n",
    "Write-host $costumes[-4..4]"
   ]
  },
  {
   "cell_type": "code",
   "execution_count": 68,
   "metadata": {
    "dotnet_interactive": {
     "language": "pwsh"
    },
    "polyglot_notebook": {
     "kernelName": "pwsh"
    },
    "vscode": {
     "languageId": "polyglot-notebook"
    }
   },
   "outputs": [
    {
     "name": "stdout",
     "output_type": "stream",
     "text": [
      "Object[]\n",
      "backgroundTaskHost\n",
      "backgroundTaskHost\n",
      "Code - Insiders\n",
      "Code - Insiders\n",
      "Code - Insiders\n",
      "Code - Insiders\n",
      "Code - Insiders\n",
      "Code - Insiders\n",
      "Code - Insiders\n",
      "Code - Insiders\n",
      "Code - Insiders\n",
      "Code - Insiders\n",
      "Code - Insiders\n",
      "Code - Insiders\n",
      "conhost\n",
      "conhost\n",
      "conhost\n",
      "conhost\n",
      "csrss\n",
      "csrss\n",
      "ctfmon\n",
      "dllhost\n",
      "dllhost\n",
      "dotnet\n",
      "dotnet\n",
      "dotnet\n",
      "dotnet\n",
      "dwm\n",
      "explorer\n",
      "FileCoAuth\n",
      "fontdrvhost\n",
      "fontdrvhost\n",
      "Idle\n",
      "lsass\n",
      "Memory Compression\n",
      "MoUsoCoreWorker\n",
      "msdtc\n",
      "msedge\n",
      "msedge\n",
      "msedge\n",
      "msedge\n",
      "msedge\n",
      "msedge\n",
      "msedge\n",
      "MsMpEng\n",
      "NisSrv\n",
      "OneDrive\n",
      "PhoneExperienceHost\n",
      "pwsh\n",
      "Registry\n",
      "RuntimeBroker\n",
      "RuntimeBroker\n",
      "RuntimeBroker\n",
      "RuntimeBroker\n",
      "SearchApp\n",
      "SearchIndexer\n",
      "SecurityHealthService\n",
      "SecurityHealthSystray\n",
      "services\n",
      "SgrmBroker\n",
      "sihost\n",
      "smss\n",
      "spoolsv\n",
      "StartMenuExperienceHost\n",
      "svchost\n",
      "svchost\n",
      "svchost\n",
      "svchost\n",
      "svchost\n",
      "svchost\n",
      "svchost\n",
      "svchost\n",
      "svchost\n",
      "svchost\n",
      "svchost\n",
      "svchost\n",
      "svchost\n",
      "svchost\n",
      "svchost\n",
      "svchost\n",
      "svchost\n",
      "svchost\n",
      "svchost\n",
      "svchost\n",
      "svchost\n",
      "svchost\n",
      "svchost\n",
      "svchost\n",
      "svchost\n",
      "svchost\n",
      "svchost\n",
      "svchost\n",
      "svchost\n",
      "svchost\n",
      "svchost\n",
      "svchost\n",
      "svchost\n",
      "svchost\n",
      "svchost\n",
      "svchost\n",
      "svchost\n",
      "svchost\n",
      "svchost\n",
      "svchost\n",
      "svchost\n",
      "svchost\n",
      "svchost\n",
      "svchost\n",
      "svchost\n",
      "svchost\n",
      "svchost\n",
      "svchost\n",
      "svchost\n",
      "svchost\n",
      "svchost\n",
      "svchost\n",
      "svchost\n",
      "svchost\n",
      "svchost\n",
      "svchost\n",
      "svchost\n",
      "svchost\n",
      "svchost\n",
      "svchost\n",
      "svchost\n",
      "svchost\n",
      "svchost\n",
      "svchost\n",
      "svchost\n",
      "svchost\n",
      "svchost\n",
      "svchost\n",
      "svchost\n",
      "System\n",
      "taskhostw\n",
      "taskhostw\n",
      "TextInputHost\n",
      "uhssvc\n",
      "VGAuthService\n",
      "vm3dservice\n",
      "vm3dservice\n",
      "vmtoolsd\n",
      "vmtoolsd\n",
      "wininit\n",
      "winlogon\n",
      "WmiPrvSE\n"
     ]
    }
   ],
   "source": [
    "#pipeline\n",
    "$processes=Get-Process\n",
    "$processes.GetType().name\n",
    "$processes[0].processname\n",
    "#foreach($process in $processes){\n",
    "#    Write-host $process.processname\n",
    "#}\n",
    "#$processes | ForEach-Object {write-host $_.processname}\n",
    "#$processes | %{$_.processname}\n",
    "$processes.ForEach({$_.processname})"
   ]
  },
  {
   "cell_type": "code",
   "execution_count": 1,
   "metadata": {
    "dotnet_interactive": {
     "language": "pwsh"
    },
    "polyglot_notebook": {
     "kernelName": "pwsh"
    },
    "vscode": {
     "languageId": "polyglot-notebook"
    }
   },
   "outputs": [
    {
     "name": "stdout",
     "output_type": "stream",
     "text": [
      "1 2 3 4 5\n",
      "1 2 3 4\n",
      "1 4\n",
      "2 3 4\n",
      "1 2 4\n"
     ]
    }
   ],
   "source": [
    "#removing items\n",
    "$numbers= 1,2,3,4,5\n",
    "Write-host $numbers\n",
    "$numbers=$numbers[0..($numbers.length-2)]\n",
    "Write-host $numbers\n",
    "Write-host $numbers[0..-1]\n",
    "Write-host $numbers[1..($numbers.length-1)]\n",
    "Write-host $numbers[0,1+3..($numbers.length-1)]"
   ]
  },
  {
   "cell_type": "code",
   "execution_count": 1,
   "metadata": {
    "dotnet_interactive": {
     "language": "pwsh"
    },
    "polyglot_notebook": {
     "kernelName": "pwsh"
    },
    "vscode": {
     "languageId": "polyglot-notebook"
    }
   },
   "outputs": [
    {
     "name": "stdout",
     "output_type": "stream",
     "text": [
      "X O O\n",
      "---\n",
      "O X O\n",
      "---\n",
      "X O X\n",
      "---\n"
     ]
    }
   ],
   "source": [
    "# Array in Arrays (Mulitdiensoinal arrays)\n",
    "$TicTacToe= @(\n",
    "    @('X','O','O'),\n",
    "    @('O','X','O'),\n",
    "    @('X','O','X')\n",
    ")\n",
    "for($R=0; $R -lt $TicTacToe.Length; $R++){\n",
    "    Write-host $TicTacToe[$R]\n",
    "    Write-host (\"-\"*3)\n",
    "}"
   ]
  },
  {
   "cell_type": "code",
   "execution_count": 8,
   "metadata": {
    "dotnet_interactive": {
     "language": "pwsh"
    },
    "polyglot_notebook": {
     "kernelName": "pwsh"
    },
    "vscode": {
     "languageId": "polyglot-notebook"
    }
   },
   "outputs": [
    {
     "name": "stdout",
     "output_type": "stream",
     "text": [
      "John\n",
      "123 Somewhere St\n",
      "W0446744\n",
      "John\n",
      "123 Somewhere St\n",
      "W0446744\n",
      "902-555-1212\n"
     ]
    }
   ],
   "source": [
    "#Array destructing\n",
    "$things= \"John\", \"123 Somewhere St\", \"W0446744\", \"902-555-1212\"\n",
    "$things[0]\n",
    "$things[1]\n",
    "$things[2]\n",
    "\n",
    "$Name, $address, $employeenum, $phonenum = $things\n",
    "$Name\n",
    "$address\n",
    "$employeenum\n",
    "$phonenum\n",
    "\n",
    "#array structuring\n",
    "$info = $Name, $address, $employeenum, $phonenum"
   ]
  },
  {
   "cell_type": "code",
   "execution_count": 18,
   "metadata": {
    "dotnet_interactive": {
     "language": "pwsh"
    },
    "polyglot_notebook": {
     "kernelName": "pwsh"
    },
    "vscode": {
     "languageId": "polyglot-notebook"
    }
   },
   "outputs": [
    {
     "name": "stdout",
     "output_type": "stream",
     "text": [
      "\n",
      "    Directory: C:\\Users\\W0446744\n",
      "\n",
      "\u001b[32;1mMode                 LastWriteTime         Length Name\u001b[0m\n",
      "\u001b[32;1m----                 -------------         ------ ----\u001b[0m\n",
      "d----          10/18/2023  8:51 AM                \u001b[44;1m.dotnet\u001b[0m\n",
      "-a---           9/15/2023  8:56 AM           1728 PowerShellBasics.ipynb\n",
      "~~~~~~~~~~~~~~~~~~~~~~~~~~~~~~~~~~~~~~~~~~~~~~~~~~~~~~~~~~~~~~~~~~~~~~~~~~~~~~~~~~~~~~~~~~~~~~~~~~~~\n",
      "-a---           9/15/2023  8:56 AM           1728 PowerShellBasics.ipynb\n",
      "d----          10/18/2023  8:51 AM                \u001b[44;1m.dotnet\u001b[0m\n",
      "~~~~~~~~~~~~~~~~~~~~~~~~~~~~~~~~~~~~~~~~~~~~~~~~~~~~~~~~~~~~~~~~~~~~~~~~~~~~~~~~~~~~~~~~~~~~~~~~~~~~\n",
      "d----          10/18/2023  8:51 AM                \u001b[44;1m.dotnet\u001b[0m\n",
      "-a---           9/15/2023  8:56 AM           1728 PowerShellBasics.ipynb\n",
      "\n"
     ]
    }
   ],
   "source": [
    "#Reverse array order\n",
    "$homefolder = (Get-childitem $HOME)\n",
    "$homefolder[0]\n",
    "$homefolder[$homefolder.Length-1]\n",
    "\"~\" * 100\n",
    "$homefolder = $homefolder[-1..-($homefolder.length)]\n",
    "$homefolder[0]\n",
    "$homefolder[$homefolder.Length-1]\n",
    "\"~\" * 100\n",
    "[Array]::Reverse($homefolder)\n",
    "$homefolder[0]\n",
    "$homefolder[$homefolder.Length-1]"
   ]
  },
  {
   "cell_type": "code",
   "execution_count": 24,
   "metadata": {
    "dotnet_interactive": {
     "language": "pwsh"
    },
    "polyglot_notebook": {
     "kernelName": "pwsh"
    },
    "vscode": {
     "languageId": "polyglot-notebook"
    }
   },
   "outputs": [
    {
     "name": "stdout",
     "output_type": "stream",
     "text": [
      "String\n",
      "A\n",
      "Char\n",
      "A p p\n",
      "Object[]\n",
      "Char[]\n"
     ]
    }
   ],
   "source": [
    "#Strings are like Arrays\n",
    "$str = \"Apple\"\n",
    "$str.GetType().name\n",
    "$str[0]\n",
    "$str[0].GetType().Name\n",
    "Write-host $str[0..2]\n",
    "Write-host ($str[0..2]).GetType().name\n",
    "Write-host ([char[]]$str[0..2]).GetType().name\n",
    "#convert an Array of chracters to a Strings\n"
   ]
  },
  {
   "cell_type": "code",
   "execution_count": 37,
   "metadata": {
    "dotnet_interactive": {
     "language": "pwsh"
    },
    "polyglot_notebook": {
     "kernelName": "pwsh"
    },
    "vscode": {
     "languageId": "polyglot-notebook"
    }
   },
   "outputs": [
    {
     "name": "stdout",
     "output_type": "stream",
     "text": [
      "Hello\n",
      "String\n",
      "Hello\n",
      "H e l l o\n"
     ]
    }
   ],
   "source": [
    "#convert an Array of chracters to a Strings\n",
    "$Hello= \"Hello world\"\n",
    "$str =($Hello[0..4] -join '')\n",
    "$str\n",
    "$str.GetType().name\n",
    "$str =$Hello[0..4]\n",
    "[String]::join('', $Str)\n",
    "$str =$Hello[0..4]\n",
    "[String]$str"
   ]
  },
  {
   "cell_type": "code",
   "execution_count": 42,
   "metadata": {
    "dotnet_interactive": {
     "language": "pwsh"
    },
    "polyglot_notebook": {
     "kernelName": "pwsh"
    },
    "vscode": {
     "languageId": "polyglot-notebook"
    }
   },
   "outputs": [
    {
     "name": "stdout",
     "output_type": "stream",
     "text": [
      "H e l l o   W o r l d\n",
      "H e l l o   W o r l d\n",
      "Hello\n",
      "World\n"
     ]
    }
   ],
   "source": [
    "#convert Strings to Arrays \n",
    "$Hello= \"Hello World\"\n",
    "Write-host $Hello[0..($hello.length-1)]\n",
    "Write-host $hello.ToCharArray()\n",
    "$Hello -split ' '"
   ]
  },
  {
   "cell_type": "code",
   "execution_count": 47,
   "metadata": {
    "dotnet_interactive": {
     "language": "pwsh"
    },
    "polyglot_notebook": {
     "kernelName": "pwsh"
    },
    "vscode": {
     "languageId": "polyglot-notebook"
    }
   },
   "outputs": [
    {
     "name": "stdout",
     "output_type": "stream",
     "text": [
      "Jordan\n",
      "123 Somewhere Dr 902-555-1212\n"
     ]
    }
   ],
   "source": [
    "#more splitting\n",
    "$Data = \"Jordan 123 Somewhere Dr 902-555-1212\"\n",
    "$Data -split ' ',2"
   ]
  },
  {
   "cell_type": "code",
   "execution_count": null,
   "metadata": {
    "dotnet_interactive": {
     "language": "pwsh"
    },
    "polyglot_notebook": {
     "kernelName": "pwsh"
    },
    "vscode": {
     "languageId": "polyglot-notebook"
    }
   },
   "outputs": [],
   "source": []
  }
 ],
 "metadata": {
  "language_info": {
   "name": "python"
  }
 },
 "nbformat": 4,
 "nbformat_minor": 2
}
