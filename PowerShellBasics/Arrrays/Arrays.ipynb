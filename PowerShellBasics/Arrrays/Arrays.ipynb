{
 "cells": [
  {
   "cell_type": "code",
   "execution_count": 4,
   "metadata": {
    "dotnet_interactive": {
     "language": "pwsh"
    },
    "polyglot_notebook": {
     "kernelName": "pwsh"
    },
    "vscode": {
     "languageId": "polyglot-notebook"
    }
   },
   "outputs": [
    {
     "name": "stdout",
     "output_type": "stream",
     "text": [
      "John\n",
      "Jacob\n",
      "Jingle\n",
      "Hymer\n",
      "Schmitt\n",
      "John\n",
      "Jacob\n",
      "Jingle\n",
      "Hymer\n",
      "Schmitt\n"
     ]
    }
   ],
   "source": [
    "#method 1\n",
    "$username1= \"John\"\n",
    "$username2= \"Jacob\"\n",
    "$username3= \"Jingle\"\n",
    "$username4= \"Hymer\"\n",
    "$username5= \"Schmitt\"\n",
    "\n",
    "Write-host $username1 \n",
    "Write-host $username2 \n",
    "Write-host $username3 \n",
    "Write-host $username4 \n",
    "Write-host $username5\n",
    "\n",
    "#Can this be done in a loop?\n",
    "for($i=1; $i -le 5; $i++){\n",
    "    Write-host (IEX \"`$Username$i\")\n",
    "}"
   ]
  },
  {
   "cell_type": "code",
   "execution_count": null,
   "metadata": {
    "dotnet_interactive": {
     "language": "pwsh"
    },
    "polyglot_notebook": {
     "kernelName": "pwsh"
    },
    "vscode": {
     "languageId": "polyglot-notebook"
    }
   },
   "outputs": [],
   "source": []
  }
 ],
 "metadata": {
  "language_info": {
   "name": "python"
  }
 },
 "nbformat": 4,
 "nbformat_minor": 2
}
