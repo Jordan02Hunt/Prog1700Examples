{
 "cells": [
  {
   "cell_type": "code",
   "execution_count": 3,
   "metadata": {
    "dotnet_interactive": {
     "language": "pwsh"
    },
    "polyglot_notebook": {
     "kernelName": "pwsh"
    },
    "vscode": {
     "languageId": "polyglot-notebook"
    }
   },
   "outputs": [
    {
     "name": "stdout",
     "output_type": "stream",
     "text": [
      "apples, oranges, tangerines, cherries\r\n"
     ]
    }
   ],
   "source": [
    "#Creating a hash table\n",
    "$fruit = @{\n",
    "    'apple'='red';\n",
    "    'banana'= 'yellow';\n",
    "    'orange'= 'orange';\n",
    "    'fruit cocktail'= 'apples, oranges, tangerines, cherries'\n",
    "}\n",
    "$fruit['fruit cocktail']"
   ]
  },
  {
   "cell_type": "code",
   "execution_count": 4,
   "metadata": {
    "dotnet_interactive": {
     "language": "pwsh"
    },
    "polyglot_notebook": {
     "kernelName": "pwsh"
    },
    "vscode": {
     "languageId": "polyglot-notebook"
    }
   },
   "outputs": [
    {
     "name": "stdout",
     "output_type": "stream",
     "text": [
      "correct\r\n"
     ]
    }
   ],
   "source": [
    "#password list\n",
    "$password = @{\n",
    "    'w123456'='password';\n",
    "    'w111111'='easypeasy';\n",
    "    'w222222'='veryhard';\n",
    "}\n",
    "if ($password['w111111'] -eq 'easypeasy'){\n",
    "    'correct'\n",
    "}"
   ]
  },
  {
   "cell_type": "code",
   "execution_count": 5,
   "metadata": {
    "dotnet_interactive": {
     "language": "pwsh"
    },
    "polyglot_notebook": {
     "kernelName": "pwsh"
    },
    "vscode": {
     "languageId": "polyglot-notebook"
    }
   },
   "outputs": [
    {
     "name": "stdout",
     "output_type": "stream",
     "text": [
      "*****\n",
      "*****\n"
     ]
    }
   ],
   "source": [
    "#optional quotes\n",
    "$superheros=@{batman='*****'; catwoman='*'; superman='***';}\n",
    "$superheros['batman']\n",
    "$superheros.batman"
   ]
  },
  {
   "cell_type": "code",
   "execution_count": 6,
   "metadata": {
    "dotnet_interactive": {
     "language": "pwsh"
    },
    "polyglot_notebook": {
     "kernelName": "pwsh"
    },
    "vscode": {
     "languageId": "polyglot-notebook"
    }
   },
   "outputs": [
    {
     "name": "stdout",
     "output_type": "stream",
     "text": [
      "\n",
      "\u001b[32;1mName                           Value\u001b[0m\n",
      "\u001b[32;1m----                           -----\u001b[0m\n",
      "excellent                      candy apples\n",
      "ok                             chips\n",
      "worst                          candy corn\n",
      "best                           chocolate\n",
      "\n"
     ]
    }
   ],
   "source": [
    "#adding to a hash table\n",
    "$candy=@{'best'='chocolate'; 'ok'='chips'; 'worst'='candy corn';}\n",
    "$candy['excellent']='candy apples'\n",
    "$candy"
   ]
  },
  {
   "cell_type": "code",
   "execution_count": 11,
   "metadata": {
    "dotnet_interactive": {
     "language": "pwsh"
    },
    "polyglot_notebook": {
     "kernelName": "pwsh"
    },
    "vscode": {
     "languageId": "polyglot-notebook"
    }
   },
   "outputs": [
    {
     "name": "stdout",
     "output_type": "stream",
     "text": [
      "\n",
      "\u001b[32;1mName                           Value\u001b[0m\n",
      "\u001b[32;1m----                           -----\u001b[0m\n",
      ".lesshst                       20\n",
      ".gitconfig                     196\n",
      "PowerShellBasics.ipynb         1728\n",
      "\n"
     ]
    }
   ],
   "source": [
    "#looping to add \n",
    "$items = get-childitem $HOME\n",
    "$largesizefiles = @{}\n",
    "foreach ($item in $items){\n",
    "    if ($item.length -gt 1){\n",
    "    $largesizefiles[($item.name)]=$item.length\n",
    "    }\n",
    "}\n",
    "$largesizefiles"
   ]
  },
  {
   "cell_type": "code",
   "execution_count": 12,
   "metadata": {
    "dotnet_interactive": {
     "language": "pwsh"
    },
    "polyglot_notebook": {
     "kernelName": "pwsh"
    },
    "vscode": {
     "languageId": "polyglot-notebook"
    }
   },
   "outputs": [
    {
     "name": "stdout",
     "output_type": "stream",
     "text": [
      "\n",
      "\u001b[32;1mName                           Value\u001b[0m\n",
      "\u001b[32;1m----                           -----\u001b[0m\n",
      "ok                             chips\n",
      "best                           chocolate\n",
      "\n"
     ]
    }
   ],
   "source": [
    "#Removing from the hash table\n",
    "$candy=@{'best'='chocolate'; 'ok'='chips'; 'worst'='candy corn';}\n",
    "$candy.Remove('worst')\n",
    "$candy"
   ]
  },
  {
   "cell_type": "code",
   "execution_count": 13,
   "metadata": {
    "dotnet_interactive": {
     "language": "pwsh"
    },
    "polyglot_notebook": {
     "kernelName": "pwsh"
    },
    "vscode": {
     "languageId": "polyglot-notebook"
    }
   },
   "outputs": [
    {
     "name": "stdout",
     "output_type": "stream",
     "text": [
      "123\n",
      "1\n",
      "red\n",
      "yellow\n"
     ]
    }
   ],
   "source": [
    "#what can be in a hash table\n",
    "$things =@{\n",
    "    numbers=123;\n",
    "    string='hello world';\n",
    "    decimal=3.14159;\n",
    "    boolean=$true;\n",
    "    array= @(1,2,3,4,5);\n",
    "    hashtable=@{apple='red';banana='yellow';orange='orange'};\n",
    "}\n",
    "$things.numbers\n",
    "$things.array[0]\n",
    "$things.hashtable['apple']\n",
    "$things.hashtable.banana"
   ]
  },
  {
   "cell_type": "code",
   "execution_count": 17,
   "metadata": {
    "dotnet_interactive": {
     "language": "pwsh"
    },
    "polyglot_notebook": {
     "kernelName": "pwsh"
    },
    "vscode": {
     "languageId": "polyglot-notebook"
    }
   },
   "outputs": [
    {
     "name": "stdout",
     "output_type": "stream",
     "text": [
      "orange\n",
      "yellow\n",
      "apples, oranges, tangerines, cherries\n",
      "red\n",
      "orange banana fruit cocktail apple\n"
     ]
    }
   ],
   "source": [
    "#keys \n",
    "$fruit = @{\n",
    "    'apple'='red';\n",
    "    'banana'= 'yellow';\n",
    "    'orange'= 'orange';\n",
    "    'fruit cocktail'= 'apples, oranges, tangerines, cherries'\n",
    "}\n",
    "foreach($k in $fruit.keys){\n",
    "    $fruit[$k]\n",
    "}\n",
    "write-host $fruit.keys | sort"
   ]
  },
  {
   "cell_type": "code",
   "execution_count": 24,
   "metadata": {
    "dotnet_interactive": {
     "language": "pwsh"
    },
    "polyglot_notebook": {
     "kernelName": "pwsh"
    },
    "vscode": {
     "languageId": "polyglot-notebook"
    }
   },
   "outputs": [
    {
     "name": "stdout",
     "output_type": "stream",
     "text": [
      "key=orange, value= orange\n",
      "key=banana, value= yellow\n",
      "key=fruit cocktail, value= apples, oranges, tangerines, cherries\n",
      "key=apple, value= red\n",
      "\n",
      "\u001b[32;1mName                           Value\u001b[0m\n",
      "\u001b[32;1m----                           -----\u001b[0m\n",
      "apple                          red\n",
      "banana                         yellow\n",
      "fruit cocktail                 apples, oranges, tangerines, cherries\n",
      "orange                         orange\n",
      "~~~~~~~~~~~~~~~~~~~~~~~~~~~~~~~\n",
      "fruit cocktail                 apples, oranges, tangerines, cherries\n",
      "orange                         orange\n",
      "apple                          red\n",
      "banana                         yellow\n",
      "\n"
     ]
    }
   ],
   "source": [
    "#keys and value\n",
    "$fruit = @{\n",
    "    'apple'='red';\n",
    "    'banana'= 'yellow';\n",
    "    'orange'= 'orange';\n",
    "    'fruit cocktail'= 'apples, oranges, tangerines, cherries'\n",
    "}\n",
    "foreach ($f in $fruit.GetEnumerator()){\n",
    "    \"key=$($f.key), value= $($f.value)\"\n",
    "}\n",
    "$fruit.GetEnumerator() | sort-object -Property key\n",
    "write-host \"~~~~~~~~~~~~~~~~~~~~~~~~~~~~~~~\"\n",
    "$fruit.GetEnumerator() | sort-object -Property value\n",
    "foreach($f in $sorted){\n",
    "    \"key=$($f.key), value= $($f.value)\"\n",
    "}"
   ]
  },
  {
   "cell_type": "code",
   "execution_count": 26,
   "metadata": {
    "dotnet_interactive": {
     "language": "pwsh"
    },
    "polyglot_notebook": {
     "kernelName": "pwsh"
    },
    "vscode": {
     "languageId": "polyglot-notebook"
    }
   },
   "outputs": [
    {
     "name": "stdout",
     "output_type": "stream",
     "text": [
      "orange\n",
      "yellow\n",
      "apples, oranges, tangerines, cherries\n",
      "red\n"
     ]
    }
   ],
   "source": [
    "#values\n",
    "$fruit = @{\n",
    "    'apple'='red';\n",
    "    'banana'= 'yellow';\n",
    "    'orange'= 'orange';\n",
    "    'fruit cocktail'= 'apples, oranges, tangerines, cherries'\n",
    "}\n",
    "foreach($value in $fruit.values){\n",
    "    $value\n",
    "}"
   ]
  },
  {
   "cell_type": "code",
   "execution_count": null,
   "metadata": {
    "dotnet_interactive": {
     "language": "pwsh"
    },
    "polyglot_notebook": {
     "kernelName": "pwsh"
    },
    "vscode": {
     "languageId": "polyglot-notebook"
    }
   },
   "outputs": [],
   "source": []
  }
 ],
 "metadata": {
  "language_info": {
   "name": "python"
  }
 },
 "nbformat": 4,
 "nbformat_minor": 2
}
