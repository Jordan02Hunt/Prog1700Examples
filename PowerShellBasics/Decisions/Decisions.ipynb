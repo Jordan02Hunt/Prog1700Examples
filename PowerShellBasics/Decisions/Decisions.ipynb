{
 "cells": [
  {
   "cell_type": "code",
   "execution_count": 1,
   "metadata": {
    "dotnet_interactive": {
     "language": "pwsh"
    },
    "polyglot_notebook": {
     "kernelName": "pwsh"
    },
    "vscode": {
     "languageId": "polyglot-notebook"
    }
   },
   "outputs": [
    {
     "name": "stdout",
     "output_type": "stream",
     "text": [
      "hello world\r\n"
     ]
    }
   ],
   "source": [
    "write-host \"hello world\""
   ]
  },
  {
   "cell_type": "code",
   "execution_count": 5,
   "metadata": {
    "dotnet_interactive": {
     "language": "pwsh"
    },
    "polyglot_notebook": {
     "kernelName": "pwsh"
    },
    "vscode": {
     "languageId": "polyglot-notebook"
    }
   },
   "outputs": [
    {
     "name": "stdout",
     "output_type": "stream",
     "text": [
      "False\r\n"
     ]
    }
   ],
   "source": [
    "#a variable can hold a boolean value\n",
    "$booleanvariable=$true\n",
    "$booleanvariable=$false\n",
    "$booleanvariable"
   ]
  },
  {
   "cell_type": "code",
   "execution_count": 6,
   "metadata": {
    "dotnet_interactive": {
     "language": "pwsh"
    },
    "polyglot_notebook": {
     "kernelName": "pwsh"
    },
    "vscode": {
     "languageId": "polyglot-notebook"
    }
   },
   "outputs": [
    {
     "name": "stdout",
     "output_type": "stream",
     "text": [
      "False\r\n"
     ]
    }
   ],
   "source": [
    "#convert an integer to a boolean\n",
    "$integervariable=123\n",
    "$boolean= [bool]$integervariable\n",
    "$booleanvariable"
   ]
  },
  {
   "cell_type": "code",
   "execution_count": 10,
   "metadata": {
    "dotnet_interactive": {
     "language": "pwsh"
    },
    "polyglot_notebook": {
     "kernelName": "pwsh"
    },
    "vscode": {
     "languageId": "polyglot-notebook"
    }
   },
   "outputs": [
    {
     "name": "stdout",
     "output_type": "stream",
     "text": [
      "False\r\n"
     ]
    }
   ],
   "source": [
    "#convert a decimal to a boolean\n",
    "$decimalvariable= 0.0\n",
    "$booleanvariable=[bool]$decimalvariable\n",
    "$booleanvariable"
   ]
  },
  {
   "cell_type": "code",
   "execution_count": 13,
   "metadata": {
    "dotnet_interactive": {
     "language": "pwsh"
    },
    "polyglot_notebook": {
     "kernelName": "pwsh"
    },
    "vscode": {
     "languageId": "polyglot-notebook"
    }
   },
   "outputs": [
    {
     "name": "stdout",
     "output_type": "stream",
     "text": [
      "False\r\n"
     ]
    }
   ],
   "source": [
    "#convert a string to a boolean\n",
    "$stringvariable=\"\"\n",
    "$booleanvariable= [bool]$stringvariable\n",
    "$booleanvariable\n"
   ]
  },
  {
   "cell_type": "code",
   "execution_count": 14,
   "metadata": {
    "dotnet_interactive": {
     "language": "pwsh"
    },
    "polyglot_notebook": {
     "kernelName": "pwsh"
    },
    "vscode": {
     "languageId": "polyglot-notebook"
    }
   },
   "outputs": [
    {
     "name": "stdout",
     "output_type": "stream",
     "text": [
      "False\r\n"
     ]
    }
   ],
   "source": [
    "#convert the words true or false to a boolean\n",
    "$truestringvariable= \"True\"\n",
    "$falsestringvariable= \"false\"\n",
    "$booleanvariable=[bool]::parse($falsestringvariable)\n",
    "$booleanvariable"
   ]
  },
  {
   "cell_type": "code",
   "execution_count": 56,
   "metadata": {
    "dotnet_interactive": {
     "language": "pwsh"
    },
    "polyglot_notebook": {
     "kernelName": "pwsh"
    },
    "vscode": {
     "languageId": "polyglot-notebook"
    }
   },
   "outputs": [
    {
     "name": "stdout",
     "output_type": "stream",
     "text": [
      "True\n",
      "False\n",
      "False\n",
      "True\n",
      "False\n",
      "True\n"
     ]
    }
   ],
   "source": [
    "#basic comparison\n",
    "1 -lt 5\n",
    "1-gt 5\n",
    "1 -eq 5\n",
    "1-le 5\n",
    "1 -ge 5\n",
    "1 -ne 5"
   ]
  },
  {
   "cell_type": "code",
   "execution_count": 19,
   "metadata": {
    "dotnet_interactive": {
     "language": "pwsh"
    },
    "polyglot_notebook": {
     "kernelName": "pwsh"
    },
    "vscode": {
     "languageId": "polyglot-notebook"
    }
   },
   "outputs": [
    {
     "name": "stdout",
     "output_type": "stream",
     "text": [
      "True\n",
      "True\n",
      "False\n",
      "False\n",
      "False\n"
     ]
    }
   ],
   "source": [
    "#basic Variable comparison\n",
    "$numberofUsers=5\n",
    "$numberofUsers -lt 10\n",
    "$numberofUsers -le 10\n",
    "$numberofUsers -gt 10\n",
    "$numberofUsers -ge 10\n",
    "$numberofUsers -eq 10"
   ]
  },
  {
   "cell_type": "code",
   "execution_count": 20,
   "metadata": {
    "dotnet_interactive": {
     "language": "pwsh"
    },
    "polyglot_notebook": {
     "kernelName": "pwsh"
    },
    "vscode": {
     "languageId": "polyglot-notebook"
    }
   },
   "outputs": [
    {
     "name": "stdout",
     "output_type": "stream",
     "text": [
      "True\r\n"
     ]
    }
   ],
   "source": [
    "#Decimal comparison\n",
    "1.2 -lt 10.3"
   ]
  },
  {
   "cell_type": "code",
   "execution_count": 21,
   "metadata": {
    "dotnet_interactive": {
     "language": "pwsh"
    },
    "polyglot_notebook": {
     "kernelName": "pwsh"
    },
    "vscode": {
     "languageId": "polyglot-notebook"
    }
   },
   "outputs": [
    {
     "name": "stdout",
     "output_type": "stream",
     "text": [
      "1.4142135623731\r\n"
     ]
    }
   ],
   "source": [
    "#Decimals are inaccurate\n",
    "[math]::Sqrt(2)"
   ]
  },
  {
   "cell_type": "code",
   "execution_count": 23,
   "metadata": {
    "dotnet_interactive": {
     "language": "pwsh"
    },
    "polyglot_notebook": {
     "kernelName": "pwsh"
    },
    "vscode": {
     "languageId": "polyglot-notebook"
    }
   },
   "outputs": [
    {
     "name": "stdout",
     "output_type": "stream",
     "text": [
      "0.3\n",
      "False\n"
     ]
    }
   ],
   "source": [
    "#???\n",
    "$a = 0.1\n",
    "$b = 0.2\n",
    "$a + $b\n",
    "($a + $b) -eq 0.3"
   ]
  },
  {
   "cell_type": "code",
   "execution_count": 25,
   "metadata": {
    "dotnet_interactive": {
     "language": "pwsh"
    },
    "polyglot_notebook": {
     "kernelName": "pwsh"
    },
    "vscode": {
     "languageId": "polyglot-notebook"
    }
   },
   "outputs": [
    {
     "name": "stdout",
     "output_type": "stream",
     "text": [
      "True\n",
      "True\n"
     ]
    }
   ],
   "source": [
    "#comparing Strings\n",
    "\"hello\" -eq \"hello\"\n",
    "$userinput = \"password\"\n",
    "$userinput -eq \"password\""
   ]
  },
  {
   "cell_type": "code",
   "execution_count": 29,
   "metadata": {
    "dotnet_interactive": {
     "language": "pwsh"
    },
    "polyglot_notebook": {
     "kernelName": "pwsh"
    },
    "vscode": {
     "languageId": "polyglot-notebook"
    }
   },
   "outputs": [
    {
     "name": "stdout",
     "output_type": "stream",
     "text": [
      "False\n",
      "False\n"
     ]
    }
   ],
   "source": [
    "#less than?\n",
    "\"hello\" -lt \"goodbye\"\n",
    "\"hello world\" -lt \"helli world\""
   ]
  },
  {
   "cell_type": "code",
   "execution_count": 33,
   "metadata": {
    "dotnet_interactive": {
     "language": "pwsh"
    },
    "polyglot_notebook": {
     "kernelName": "pwsh"
    },
    "vscode": {
     "languageId": "polyglot-notebook"
    }
   },
   "outputs": [
    {
     "name": "stdout",
     "output_type": "stream",
     "text": [
      "False\n",
      "True\n",
      "False\n",
      "True\n"
     ]
    }
   ],
   "source": [
    "#Capitals\n",
    "\"Hello\" -gt \"hello\"\n",
    "\"Hello\" -eq \"hello\"\n",
    "\"Hello\" -ceq \"hello\"\n",
    "\"Hello\" -ieq \"hello\""
   ]
  },
  {
   "cell_type": "code",
   "execution_count": 37,
   "metadata": {
    "dotnet_interactive": {
     "language": "pwsh"
    },
    "polyglot_notebook": {
     "kernelName": "pwsh"
    },
    "vscode": {
     "languageId": "polyglot-notebook"
    }
   },
   "outputs": [
    {
     "name": "stdout",
     "output_type": "stream",
     "text": [
      "(Hello)\n",
      "True\n",
      "True\n",
      "True\n"
     ]
    }
   ],
   "source": [
    "#Non-Letters\n",
    "\"(Hello)\"\n",
    "\"(Hello)\" -lt \"Hello\"\n",
    "\"(\" -lt \"a\"\n",
    "\"a\" -lt \"z\""
   ]
  },
  {
   "cell_type": "code",
   "execution_count": 38,
   "metadata": {
    "dotnet_interactive": {
     "language": "pwsh"
    },
    "polyglot_notebook": {
     "kernelName": "pwsh"
    },
    "vscode": {
     "languageId": "polyglot-notebook"
    }
   },
   "outputs": [
    {
     "name": "stdout",
     "output_type": "stream",
     "text": [
      "True\n",
      "False\n",
      "False\n"
     ]
    }
   ],
   "source": [
    "#special Characters order\n",
    "\"!\" -lt \"+\"\n",
    "\"@\" -lt \"-\"\n",
    "\"#\" -lt \"*\""
   ]
  },
  {
   "cell_type": "code",
   "execution_count": 43,
   "metadata": {
    "dotnet_interactive": {
     "language": "pwsh"
    },
    "polyglot_notebook": {
     "kernelName": "pwsh"
    },
    "vscode": {
     "languageId": "polyglot-notebook"
    }
   },
   "outputs": [
    {
     "name": "stdout",
     "output_type": "stream",
     "text": [
      "False\n",
      "97\n"
     ]
    }
   ],
   "source": [
    "#ASCII - American Standard code information interchange\n",
    "[Char]\"a\" -lt [Char]\"A\"\n",
    "[byte][char]\"a\""
   ]
  },
  {
   "cell_type": "code",
   "execution_count": 55,
   "metadata": {
    "dotnet_interactive": {
     "language": "pwsh"
    },
    "polyglot_notebook": {
     "kernelName": "pwsh"
    },
    "vscode": {
     "languageId": "polyglot-notebook"
    }
   },
   "outputs": [
    {
     "name": "stdout",
     "output_type": "stream",
     "text": [
      "True\n",
      "True\n",
      "True\n"
     ]
    }
   ],
   "source": [
    "#Wildcards\n",
    "#get-Childitem \"d*\"\n",
    "#get-childitem \"*.?pynb\"\n",
    "#get-childitem \"dec[io]sions.*\"\n",
    "\"this\" -like \"*hi*\"\n",
    "\"this\" -notlike \"th?t\"\n",
    "\"this\" -like \"th[ai][a-z]\""
   ]
  },
  {
   "cell_type": "code",
   "execution_count": 60,
   "metadata": {
    "dotnet_interactive": {
     "language": "pwsh"
    },
    "polyglot_notebook": {
     "kernelName": "pwsh"
    },
    "vscode": {
     "languageId": "polyglot-notebook"
    }
   },
   "outputs": [
    {
     "name": "stdout",
     "output_type": "stream",
     "text": [
      "True\r\n"
     ]
    }
   ],
   "source": [
    "$file=get-childitem\n",
    "$file.Name -eq \"Decisions.ipynb\"\n"
   ]
  },
  {
   "cell_type": "code",
   "execution_count": 61,
   "metadata": {
    "dotnet_interactive": {
     "language": "pwsh"
    },
    "polyglot_notebook": {
     "kernelName": "pwsh"
    },
    "vscode": {
     "languageId": "polyglot-notebook"
    }
   },
   "outputs": [
    {
     "name": "stdout",
     "output_type": "stream",
     "text": [
      "cat is less then dog\r\n"
     ]
    }
   ],
   "source": [
    "#basic if statement\n",
    "#Action is peformed when comparison is \"true\"\n",
    "if (\"cat\" -lt \"dog\"){\n",
    "    write-host \"cat is less then dog\"\n",
    "}"
   ]
  },
  {
   "cell_type": "code",
   "execution_count": 64,
   "metadata": {
    "dotnet_interactive": {
     "language": "pwsh"
    },
    "polyglot_notebook": {
     "kernelName": "pwsh"
    },
    "vscode": {
     "languageId": "polyglot-notebook"
    }
   },
   "outputs": [
    {
     "name": "stdout",
     "output_type": "stream",
     "text": [
      "licenses are still valid\r\n"
     ]
    }
   ],
   "source": [
    "$numberofUsers=10\n",
    "if($numberofUsers -lt 100) {\n",
    "    Write-host \"licenses are still valid\"\n",
    "}"
   ]
  },
  {
   "cell_type": "code",
   "execution_count": 66,
   "metadata": {
    "dotnet_interactive": {
     "language": "pwsh"
    },
    "polyglot_notebook": {
     "kernelName": "pwsh"
    },
    "vscode": {
     "languageId": "polyglot-notebook"
    }
   },
   "outputs": [
    {
     "name": "stdout",
     "output_type": "stream",
     "text": [
      "this gets output when true\r\n"
     ]
    }
   ],
   "source": [
    "#using a boolean value\n",
    "if ($true) {\n",
    "    Write-host \"this gets output when true\"\n",
    "}"
   ]
  },
  {
   "cell_type": "code",
   "execution_count": 67,
   "metadata": {
    "dotnet_interactive": {
     "language": "pwsh"
    },
    "polyglot_notebook": {
     "kernelName": "pwsh"
    },
    "vscode": {
     "languageId": "polyglot-notebook"
    }
   },
   "outputs": [
    {
     "name": "stdout",
     "output_type": "stream",
     "text": [
      "yeah yeah it works\r\n"
     ]
    }
   ],
   "source": [
    "#even this would work\n",
    "if ([bool]123123123) {\n",
    "    Write-host \"yeah yeah it works\"\n",
    "}"
   ]
  },
  {
   "cell_type": "code",
   "execution_count": 10,
   "metadata": {
    "dotnet_interactive": {
     "language": "pwsh"
    },
    "polyglot_notebook": {
     "kernelName": "pwsh"
    },
    "vscode": {
     "languageId": "polyglot-notebook"
    }
   },
   "outputs": [
    {
     "name": "stdout",
     "output_type": "stream",
     "text": [
      "Happy long weekend\n",
      "Happy Long Weekend\n"
     ]
    }
   ],
   "source": [
    "#simple false comparison\n",
    "$Today=\"Thursday\"\n",
    "if ($today -ne \"friday\"){\n",
    "    Write-Host \"Happy long weekend\"\n",
    "}\n",
    "if(-not ($today -eq \"Friday\")) {\n",
    "    Write-host \"Happy Long Weekend\"\n",
    "}\n"
   ]
  },
  {
   "cell_type": "code",
   "execution_count": 1,
   "metadata": {
    "dotnet_interactive": {
     "language": "pwsh"
    },
    "polyglot_notebook": {
     "kernelName": "pwsh"
    },
    "vscode": {
     "languageId": "polyglot-notebook"
    }
   },
   "outputs": [
    {
     "name": "stdout",
     "output_type": "stream",
     "text": [
      "incorrect\r\n"
     ]
    }
   ],
   "source": [
    "#using not correctly\n",
    "$valid= $false\n",
    "if (-not $valid) {\n",
    "    Write-host \"incorrect\"\n",
    "}"
   ]
  },
  {
   "cell_type": "code",
   "execution_count": 3,
   "metadata": {
    "dotnet_interactive": {
     "language": "pwsh"
    },
    "polyglot_notebook": {
     "kernelName": "pwsh"
    },
    "vscode": {
     "languageId": "polyglot-notebook"
    }
   },
   "outputs": [
    {
     "name": "stdout",
     "output_type": "stream",
     "text": [
      "ham for you\r\n"
     ]
    }
   ],
   "source": [
    "# Else statement\n",
    "$ILikeTurkey= $False\n",
    "if ($ILikeTurkey) {\n",
    "    write-host \"turkey it is\"\n",
    "}Else {\n",
    "    write-host \"ham for you\"\n",
    "}"
   ]
  },
  {
   "cell_type": "code",
   "execution_count": 9,
   "metadata": {
    "dotnet_interactive": {
     "language": "pwsh"
    },
    "polyglot_notebook": {
     "kernelName": "pwsh"
    },
    "vscode": {
     "languageId": "polyglot-notebook"
    }
   },
   "outputs": [
    {
     "name": "stdout",
     "output_type": "stream",
     "text": [
      "Need to but Pumpkins\r\n"
     ]
    }
   ],
   "source": [
    "#elseif  \n",
    "$FavPie= \"Pumpkin\"\n",
    "if($FavPie -eq \"Pumpkin\") {\n",
    "    Write-host \"Need to but Pumpkins\"\n",
    "} elseif ($FavPie -eq \"Apple\"){\n",
    "    \"A bag of apples is what i need\"\n",
    "}Else {\n",
    "    Write-Host \"lima beans is what you get!\"\n",
    "}"
   ]
  },
  {
   "cell_type": "code",
   "execution_count": 11,
   "metadata": {
    "dotnet_interactive": {
     "language": "pwsh"
    },
    "polyglot_notebook": {
     "kernelName": "pwsh"
    },
    "vscode": {
     "languageId": "polyglot-notebook"
    }
   },
   "outputs": [
    {
     "name": "stdout",
     "output_type": "stream",
     "text": [
      "we'll need some cranberry sauce.\r\n"
     ]
    }
   ],
   "source": [
    "#nested if statements \n",
    "$BestThanksgivingCondiment = \"cranberry sauce\"\n",
    "$ThanksgivingMeal= \"turkey\"\n",
    "if ($BestThanksgivingCondiment -eq \"cranberry sauce\"){\n",
    "    if ($ThanksgivingMeal -eq \"turkey\") {\n",
    "    write-host \"we'll need some cranberry sauce.\"\n",
    "    }\n",
    "}"
   ]
  },
  {
   "cell_type": "code",
   "execution_count": 13,
   "metadata": {
    "dotnet_interactive": {
     "language": "pwsh"
    },
    "polyglot_notebook": {
     "kernelName": "pwsh"
    },
    "vscode": {
     "languageId": "polyglot-notebook"
    }
   },
   "outputs": [
    {
     "name": "stdout",
     "output_type": "stream",
     "text": [
      "we'll need some cranberry sauce.\r\n"
     ]
    }
   ],
   "source": [
    "#Compound if statements\n",
    "\n",
    "$BestThanksgivingCondiment = \"cranberry sauce\"\n",
    "$ThanksgivingMeal= \"turkey\"\n",
    "if ($BestThanksgivingCondiment -eq \"cranberry sauce\" -and \n",
    "$ThanksgivingMeal -eq \"turkey\") {\n",
    "    write-host \"we'll need some cranberry sauce.\"\n",
    "    }\n"
   ]
  },
  {
   "cell_type": "code",
   "execution_count": 17,
   "metadata": {
    "dotnet_interactive": {
     "language": "pwsh"
    },
    "polyglot_notebook": {
     "kernelName": "pwsh"
    },
    "vscode": {
     "languageId": "polyglot-notebook"
    }
   },
   "outputs": [
    {
     "name": "stdout",
     "output_type": "stream",
     "text": [
      "PIzza!\r\n"
     ]
    }
   ],
   "source": [
    "#Bigger nested if statements\n",
    "$IHaveInLaws = $False\n",
    "If ($IHaveInLaws) {\n",
    "    Write-host \"A big thanks giving meal is needed\"\n",
    "    $InLawMealChoice= \"Turkey\"\n",
    "    If ($InLawMealChoice -eq \"turkey\"){\n",
    "        Write-host \"Buy Ham!\"\n",
    "    }else {\n",
    "        Write-Host \"BUY TURKEY!\"\n",
    "    }\n",
    "}else{\n",
    "    Write-Host \"PIzza!\"\n",
    "}"
   ]
  },
  {
   "cell_type": "code",
   "execution_count": 23,
   "metadata": {
    "dotnet_interactive": {
     "language": "pwsh"
    },
    "polyglot_notebook": {
     "kernelName": "pwsh"
    },
    "vscode": {
     "languageId": "polyglot-notebook"
    }
   },
   "outputs": [
    {
     "name": "stdout",
     "output_type": "stream",
     "text": [
      "buy Turkey\r\n"
     ]
    }
   ],
   "source": [
    "#Bigger Compound if statements\n",
    "$IHaveInLaws = $false\n",
    "$InLawMealChoice= \"Ham\"\n",
    "$myfavmeal= \"Turkey\"\n",
    "If ($IHaveInLaws -and $InLawMealChoice -eq \"Turkey\") {\n",
    "    Write-host \"BUy HAM\"\n",
    "}elseif ($IHaveInLaws -or $myfavmeal -eq \"turkey\"){\n",
    "    Write-Host \"buy Turkey\"\n",
    "}Else {\n",
    "    Write-Host \"BUY PIZZA!\"\n",
    "}"
   ]
  },
  {
   "cell_type": "code",
   "execution_count": 30,
   "metadata": {
    "dotnet_interactive": {
     "language": "pwsh"
    },
    "polyglot_notebook": {
     "kernelName": "pwsh"
    },
    "vscode": {
     "languageId": "polyglot-notebook"
    }
   },
   "outputs": [
    {
     "name": "stdout",
     "output_type": "stream",
     "text": [
      "Purple\r\n"
     ]
    }
   ],
   "source": [
    "#Bigger example of Compound if statements \n",
    "$color1= \"red\"\n",
    "$color2= \"blue\"\n",
    "\n",
    "#prioritize the colors\n",
    "if($color1 -gt $color2){\n",
    "    $temp = $color1\n",
    "    $color1 = $color2\n",
    "    $color2 = $temp\n",
    "}\n",
    "if(($color1 -eq \"blue\") -and ($color2 -eq \"red\")){\n",
    "    Write-host \"Purple\"\n",
    "}\n",
    "if((($color1 -eq \"red\") -and ($color2 -eq \"Yellow\"))-or\n",
    " (($color2 -eq \"red\") -and ($color1 -eq \"yellow\"))){\n",
    "    Write-host \"Orange\"\n",
    "}\n",
    "if((($color1 -eq \"blue\") -and ($color2 -eq \"yellow\"))-or\n",
    "  (($color2 -eq \"blue\") -and ($color1 -eq \"yellow\"))){\n",
    "    Write-host \"Green\"\n",
    "}"
   ]
  },
  {
   "cell_type": "code",
   "execution_count": null,
   "metadata": {
    "dotnet_interactive": {
     "language": "pwsh"
    },
    "polyglot_notebook": {
     "kernelName": "pwsh"
    },
    "vscode": {
     "languageId": "polyglot-notebook"
    }
   },
   "outputs": [],
   "source": []
  }
 ],
 "metadata": {
  "language_info": {
   "name": "python"
  }
 },
 "nbformat": 4,
 "nbformat_minor": 2
}
