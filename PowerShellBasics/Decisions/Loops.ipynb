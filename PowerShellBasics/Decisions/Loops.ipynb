{
 "cells": [
  {
   "cell_type": "code",
   "execution_count": 2,
   "metadata": {
    "dotnet_interactive": {
     "language": "pwsh"
    },
    "polyglot_notebook": {
     "kernelName": "pwsh"
    },
    "vscode": {
     "languageId": "polyglot-notebook"
    }
   },
   "outputs": [
    {
     "name": "stdout",
     "output_type": "stream",
     "text": [
      "0\n",
      "1\n",
      "2\n",
      "3\n",
      "4\n",
      "5\n"
     ]
    }
   ],
   "source": [
    "#basic while loop\n",
    "$counter=0\n",
    "While ($counter -le 5){\n",
    "    Write-host $counter\n",
    "    #$counter = $counter + 1\n",
    "    #$counter += 1\n",
    "    $counter++\n",
    "}"
   ]
  },
  {
   "cell_type": "code",
   "execution_count": 3,
   "metadata": {
    "dotnet_interactive": {
     "language": "pwsh"
    },
    "polyglot_notebook": {
     "kernelName": "pwsh"
    },
    "vscode": {
     "languageId": "polyglot-notebook"
    }
   },
   "outputs": [
    {
     "name": "stdout",
     "output_type": "stream",
     "text": [
      ".\r\n"
     ]
    }
   ],
   "source": [
    "#while based on strings\n",
    "$userinput= \"\"\n",
    "While ($userinput -ne \"exit\"){\n",
    "    $userinput= Read-host \"enter something\"\n",
    "    Write-host \".\"\n",
    "}"
   ]
  },
  {
   "cell_type": "code",
   "execution_count": 1,
   "metadata": {
    "dotnet_interactive": {
     "language": "pwsh"
    },
    "polyglot_notebook": {
     "kernelName": "pwsh"
    },
    "vscode": {
     "languageId": "polyglot-notebook"
    }
   },
   "outputs": [
    {
     "name": "stdout",
     "output_type": "stream",
     "text": [
      "counter1: 1, Counter2: 10\n",
      "counter1: 2, Counter2: 9\n",
      "counter1: 3, Counter2: 8\n",
      "counter1: 4, Counter2: 7\n"
     ]
    }
   ],
   "source": [
    "#compound decision in a loop\n",
    "$counter1 = 1\n",
    "$counter2 = 10\n",
    "while ($counter1 -lt 5 -and $counter2 -gt 5){\n",
    "    Write-host \"counter1: $counter1, Counter2: $counter2\"\n",
    "    $counter1++\n",
    "    $Counter2--\n",
    "}"
   ]
  },
  {
   "cell_type": "code",
   "execution_count": 1,
   "metadata": {
    "dotnet_interactive": {
     "language": "pwsh"
    },
    "polyglot_notebook": {
     "kernelName": "pwsh"
    },
    "vscode": {
     "languageId": "polyglot-notebook"
    }
   },
   "outputs": [
    {
     "name": "stdout",
     "output_type": "stream",
     "text": [
      "successfully logged in\r\n"
     ]
    }
   ],
   "source": [
    "#example\n",
    "$userinput = \"\"\n",
    "$count = 0\n",
    "while($userinput -ne \"password\" -and $count -lt 3){\n",
    "    $userinput = Read-host \"enter password\"\n",
    "    $count++\n",
    "}\n",
    "if($userinput -eq \"password\"){\n",
    "Write-host \"successfully logged in\"\n",
    "}else{\n",
    "    write-host \"login unsuccessful\"\n",
    "}"
   ]
  },
  {
   "cell_type": "code",
   "execution_count": 1,
   "metadata": {
    "dotnet_interactive": {
     "language": "pwsh"
    },
    "polyglot_notebook": {
     "kernelName": "pwsh"
    },
    "vscode": {
     "languageId": "polyglot-notebook"
    }
   },
   "outputs": [
    {
     "name": "stdout",
     "output_type": "stream",
     "text": [
      ".\n",
      "Logged In\n"
     ]
    }
   ],
   "source": [
    "#while based on strings\n",
    "do{\n",
    "    $userinput= Read-host \"enter password\"\n",
    "    Write-host \".\"\n",
    "}until ($userinput -eq \"password\")\n",
    "Write-host \"Logged In\""
   ]
  },
  {
   "cell_type": "code",
   "execution_count": 1,
   "metadata": {
    "dotnet_interactive": {
     "language": "pwsh"
    },
    "polyglot_notebook": {
     "kernelName": "pwsh"
    },
    "vscode": {
     "languageId": "polyglot-notebook"
    }
   },
   "outputs": [
    {
     "name": "stdout",
     "output_type": "stream",
     "text": [
      "0\n",
      "1\n",
      "2\n",
      "3\n",
      "4\n",
      "5\n"
     ]
    }
   ],
   "source": [
    "#For Loop\n",
    "for($counter = 0; $counter -le 5; $counter++){\n",
    "    Write-Host $counter\n",
    "}"
   ]
  },
  {
   "cell_type": "code",
   "execution_count": 1,
   "metadata": {
    "dotnet_interactive": {
     "language": "pwsh"
    },
    "polyglot_notebook": {
     "kernelName": "pwsh"
    },
    "vscode": {
     "languageId": "polyglot-notebook"
    }
   },
   "outputs": [
    {
     "name": "stdout",
     "output_type": "stream",
     "text": [
      "0\n",
      "1\n",
      "2\n",
      "3\n",
      "4\n",
      "5\n"
     ]
    }
   ],
   "source": [
    "#more common for loop\n",
    "for($i = 0; $i -le 5; $i++){\n",
    "    $i\n",
    "}"
   ]
  },
  {
   "cell_type": "code",
   "execution_count": 2,
   "metadata": {
    "dotnet_interactive": {
     "language": "pwsh"
    },
    "polyglot_notebook": {
     "kernelName": "pwsh"
    },
    "vscode": {
     "languageId": "polyglot-notebook"
    }
   },
   "outputs": [
    {
     "name": "stdout",
     "output_type": "stream",
     "text": [
      "0;2;-3\n",
      "0;2;-1\n",
      "0;1;-3\n",
      "0;1;-1\n",
      "0;0;-3\n",
      "0;0;-1\n",
      "1;2;-3\n",
      "1;2;-1\n",
      "1;1;-3\n",
      "1;1;-1\n",
      "1;0;-3\n",
      "1;0;-1\n",
      "2;2;-3\n",
      "2;2;-1\n",
      "2;1;-3\n",
      "2;1;-1\n",
      "2;0;-3\n",
      "2;0;-1\n",
      "3;2;-3\n",
      "3;2;-1\n",
      "3;1;-3\n",
      "3;1;-1\n",
      "3;0;-3\n",
      "3;0;-1\n"
     ]
    }
   ],
   "source": [
    "#Nested For loops\n",
    "for($i = 0; $i -lt 4; $i +=1){\n",
    "    for($j = 2; $j -ge 0; $j--){\n",
    "        for($k = -3; $k -le 0; $k+=2){\n",
    "    \"$i;$j;$k\"\n",
    "}\n",
    "}\n",
    "}"
   ]
  },
  {
   "cell_type": "code",
   "execution_count": 4,
   "metadata": {
    "dotnet_interactive": {
     "language": "pwsh"
    },
    "polyglot_notebook": {
     "kernelName": "pwsh"
    },
    "vscode": {
     "languageId": "polyglot-notebook"
    }
   },
   "outputs": [
    {
     "name": "stdout",
     "output_type": "stream",
     "text": [
      "o\n",
      "oo\n",
      "ooo\n",
      "oooo\n",
      "ooooo\n"
     ]
    }
   ],
   "source": [
    "#Crappy Graphics\n",
    "#\n",
    "#o\n",
    "#oo\n",
    "#ooo\n",
    "#oooo\n",
    "#ooooo\n",
    "\n",
    "for($line=1; $line -le 5; $line++){\n",
    "    for($row=1; $row -le $line; $row++){\n",
    "        write-host \"o\" -NoNewline\n",
    "    }\n",
    "    Write-Host\n",
    "}\n"
   ]
  },
  {
   "cell_type": "code",
   "execution_count": 6,
   "metadata": {
    "dotnet_interactive": {
     "language": "pwsh"
    },
    "polyglot_notebook": {
     "kernelName": "pwsh"
    },
    "vscode": {
     "languageId": "polyglot-notebook"
    }
   },
   "outputs": [
    {
     "name": "stdout",
     "output_type": "stream",
     "text": [
      "    o\n",
      "   oo\n",
      "  ooo\n",
      " oooo\n",
      "ooooo\n"
     ]
    }
   ],
   "source": [
    "#Crappy Graphics V2\n",
    "#\n",
    "#    o\n",
    "#   oo\n",
    "#  ooo\n",
    "# oooo\n",
    "#ooooo\n",
    "\n",
    "for($line=1; $line -le 5; $line++){\n",
    "    (\" \"*(5-$line))+(\"o\" * $line)\n",
    "}"
   ]
  },
  {
   "cell_type": "code",
   "execution_count": null,
   "metadata": {
    "dotnet_interactive": {
     "language": "pwsh"
    },
    "polyglot_notebook": {
     "kernelName": "pwsh"
    },
    "vscode": {
     "languageId": "polyglot-notebook"
    }
   },
   "outputs": [],
   "source": []
  }
 ],
 "metadata": {
  "language_info": {
   "name": "python"
  }
 },
 "nbformat": 4,
 "nbformat_minor": 2
}
