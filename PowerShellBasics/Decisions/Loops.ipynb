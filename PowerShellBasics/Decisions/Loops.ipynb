{
 "cells": [
  {
   "cell_type": "code",
   "execution_count": 2,
   "metadata": {
    "dotnet_interactive": {
     "language": "pwsh"
    },
    "polyglot_notebook": {
     "kernelName": "pwsh"
    },
    "vscode": {
     "languageId": "polyglot-notebook"
    }
   },
   "outputs": [
    {
     "name": "stdout",
     "output_type": "stream",
     "text": [
      "0\n",
      "1\n",
      "2\n",
      "3\n",
      "4\n",
      "5\n"
     ]
    }
   ],
   "source": [
    "#basic while loop\n",
    "$counter=0\n",
    "While ($counter -le 5){\n",
    "    Write-host $counter\n",
    "    #$counter = $counter + 1\n",
    "    #$counter += 1\n",
    "    $counter++\n",
    "}"
   ]
  },
  {
   "cell_type": "code",
   "execution_count": 3,
   "metadata": {
    "dotnet_interactive": {
     "language": "pwsh"
    },
    "polyglot_notebook": {
     "kernelName": "pwsh"
    },
    "vscode": {
     "languageId": "polyglot-notebook"
    }
   },
   "outputs": [
    {
     "name": "stdout",
     "output_type": "stream",
     "text": [
      ".\r\n"
     ]
    }
   ],
   "source": [
    "#while based on strings\n",
    "$userinput= \"\"\n",
    "While ($userinput -ne \"exit\"){\n",
    "    $userinput= Read-host \"enter something\"\n",
    "    Write-host \".\"\n",
    "}"
   ]
  },
  {
   "cell_type": "code",
   "execution_count": 1,
   "metadata": {
    "dotnet_interactive": {
     "language": "pwsh"
    },
    "polyglot_notebook": {
     "kernelName": "pwsh"
    },
    "vscode": {
     "languageId": "polyglot-notebook"
    }
   },
   "outputs": [
    {
     "name": "stdout",
     "output_type": "stream",
     "text": [
      "counter1: 1, Counter2: 10\n",
      "counter1: 2, Counter2: 9\n",
      "counter1: 3, Counter2: 8\n",
      "counter1: 4, Counter2: 7\n"
     ]
    }
   ],
   "source": [
    "#compound decision in a loop\n",
    "$counter1 = 1\n",
    "$counter2 = 10\n",
    "while ($counter1 -lt 5 -and $counter2 -gt 5){\n",
    "    Write-host \"counter1: $counter1, Counter2: $counter2\"\n",
    "    $counter1++\n",
    "    $Counter2--\n",
    "}"
   ]
  },
  {
   "cell_type": "code",
   "execution_count": 1,
   "metadata": {
    "dotnet_interactive": {
     "language": "pwsh"
    },
    "polyglot_notebook": {
     "kernelName": "pwsh"
    },
    "vscode": {
     "languageId": "polyglot-notebook"
    }
   },
   "outputs": [
    {
     "name": "stdout",
     "output_type": "stream",
     "text": [
      "successfully logged in\r\n"
     ]
    }
   ],
   "source": [
    "#example\n",
    "$userinput = \"\"\n",
    "$count = 0\n",
    "while($userinput -ne \"password\" -and $count -lt 3){\n",
    "    $userinput = Read-host \"enter password\"\n",
    "    $count++\n",
    "}\n",
    "if($userinput -eq \"password\"){\n",
    "Write-host \"successfully logged in\"\n",
    "}else{\n",
    "    write-host \"login unsuccessful\"\n",
    "}"
   ]
  },
  {
   "cell_type": "code",
   "execution_count": 1,
   "metadata": {
    "dotnet_interactive": {
     "language": "pwsh"
    },
    "polyglot_notebook": {
     "kernelName": "pwsh"
    },
    "vscode": {
     "languageId": "polyglot-notebook"
    }
   },
   "outputs": [
    {
     "name": "stdout",
     "output_type": "stream",
     "text": [
      ".\n",
      "Logged In\n"
     ]
    }
   ],
   "source": [
    "#while based on strings\n",
    "do{\n",
    "    $userinput= Read-host \"enter password\"\n",
    "    Write-host \".\"\n",
    "}until ($userinput -eq \"password\")\n",
    "Write-host \"Logged In\""
   ]
  },
  {
   "cell_type": "code",
   "execution_count": 1,
   "metadata": {
    "dotnet_interactive": {
     "language": "pwsh"
    },
    "polyglot_notebook": {
     "kernelName": "pwsh"
    },
    "vscode": {
     "languageId": "polyglot-notebook"
    }
   },
   "outputs": [
    {
     "name": "stdout",
     "output_type": "stream",
     "text": [
      "0\n",
      "1\n",
      "2\n",
      "3\n",
      "4\n",
      "5\n"
     ]
    }
   ],
   "source": [
    "#For Loop\n",
    "for($counter = 0; $counter -le 5; $counter++){\n",
    "    Write-Host $counter\n",
    "}"
   ]
  },
  {
   "cell_type": "code",
   "execution_count": null,
   "metadata": {
    "dotnet_interactive": {
     "language": "pwsh"
    },
    "polyglot_notebook": {
     "kernelName": "pwsh"
    },
    "vscode": {
     "languageId": "polyglot-notebook"
    }
   },
   "outputs": [],
   "source": []
  }
 ],
 "metadata": {
  "language_info": {
   "name": "python"
  }
 },
 "nbformat": 4,
 "nbformat_minor": 2
}
