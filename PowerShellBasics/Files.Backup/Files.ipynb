{
 "cells": [
  {
   "cell_type": "code",
   "execution_count": 11,
   "metadata": {
    "dotnet_interactive": {
     "language": "pwsh"
    },
    "polyglot_notebook": {
     "kernelName": "pwsh"
    },
    "vscode": {
     "languageId": "polyglot-notebook"
    }
   },
   "outputs": [
    {
     "name": "stdout",
     "output_type": "stream",
     "text": [
      "🙈\n",
      "🙉\n",
      "🙊\n",
      "☠\n",
      "🎄\n",
      "🎅\n",
      "💩\n"
     ]
    }
   ],
   "source": [
    "\"`u{1F648}\"\n",
    "\"`u{1F649}\"\n",
    "\"`u{1F64A}\"\n",
    "\"`u{2620}\"\n",
    "\"`u{1F384}\"\n",
    "\"`u{1F385}\"\n",
    "\"`u{1F4A9}\""
   ]
  },
  {
   "cell_type": "code",
   "execution_count": null,
   "metadata": {
    "dotnet_interactive": {
     "language": "pwsh"
    },
    "polyglot_notebook": {
     "kernelName": "pwsh"
    },
    "vscode": {
     "languageId": "polyglot-notebook"
    }
   },
   "outputs": [],
   "source": []
  }
 ],
 "metadata": {
  "language_info": {
   "name": "python"
  }
 },
 "nbformat": 4,
 "nbformat_minor": 2
}
