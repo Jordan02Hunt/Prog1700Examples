{
 "cells": [
  {
   "cell_type": "code",
   "execution_count": 11,
   "metadata": {
    "dotnet_interactive": {
     "language": "pwsh"
    },
    "polyglot_notebook": {
     "kernelName": "pwsh"
    },
    "vscode": {
     "languageId": "polyglot-notebook"
    }
   },
   "outputs": [
    {
     "name": "stdout",
     "output_type": "stream",
     "text": [
      "🙈\n",
      "🙉\n",
      "🙊\n",
      "☠\n",
      "🎄\n",
      "🎅\n",
      "💩\n"
     ]
    }
   ],
   "source": [
    "\"`u{1F648}\"\n",
    "\"`u{1F649}\"\n",
    "\"`u{1F64A}\"\n",
    "\"`u{2620}\"\n",
    "\"`u{1F384}\"\n",
    "\"`u{1F385}\"\n",
    "\"`u{1F4A9}\""
   ]
  },
  {
   "cell_type": "code",
   "execution_count": 12,
   "metadata": {
    "dotnet_interactive": {
     "language": "pwsh"
    },
    "polyglot_notebook": {
     "kernelName": "pwsh"
    },
    "vscode": {
     "languageId": "polyglot-notebook"
    }
   },
   "outputs": [
    {
     "name": "stdout",
     "output_type": "stream",
     "text": [
      "\n",
      "    Directory: C:\\Users\\W0446744\n",
      "\n",
      "\u001b[32;1mMode                 LastWriteTime         Length Name\u001b[0m\n",
      "\u001b[32;1m----                 -------------         ------ ----\u001b[0m\n",
      "d----          11/22/2023  8:55 AM                \u001b[44;1m.dotnet\u001b[0m\n",
      "d----           9/13/2023 10:07 AM                \u001b[44;1m.ipynb_checkpoints\u001b[0m\n",
      "d----           9/13/2023  9:32 AM                \u001b[44;1m.ipython\u001b[0m\n",
      "d----           9/18/2023  1:39 PM                \u001b[44;1m.jupyter\u001b[0m\n",
      "d----           9/13/2023 10:10 AM                \u001b[44;1m.nuget\u001b[0m\n",
      "d----           9/13/2023 10:10 AM                \u001b[44;1m.templateengine\u001b[0m\n",
      "d----           9/13/2023  9:17 AM                \u001b[44;1m.vscode-insiders\u001b[0m\n",
      "d-r--           9/13/2023  8:32 AM                \u001b[44;1m3D Objects\u001b[0m\n",
      "d--h-           9/13/2023  8:32 AM                \u001b[44;1mAppData\u001b[0m\n",
      "l--hs           9/13/2023  8:32 AM                \u001b[36;1mApplication \u001b[0m\u001b[36;1mData \u001b[0m\u001b[36;1m\u001b[0m-> \u001b[0m\n",
      "                                                  \u001b[36;1m\u001b[0mC:\\Users\\W0446744\\AppData\\Roaming\u001b[0m\n",
      "d-r--           9/13/2023  8:32 AM                \u001b[44;1mContacts\u001b[0m\n",
      "l--hs           9/13/2023  8:32 AM                \u001b[36;1mCookies \u001b[0m\u001b[36;1m\u001b[0m-> \u001b[0m\u001b[36;1m\u001b[0mC:\\Users\\W0446744\\AppData\\Local\\Micros\u001b[0m\n",
      "                                                  \u001b[36;1m\u001b[0moft\\Windows\\INetCookies\u001b[0m\n",
      "d-r--           9/25/2023  2:52 PM                \u001b[44;1mDesktop\u001b[0m\n",
      "d-r--          11/15/2023  8:37 AM                \u001b[44;1mDocuments\u001b[0m\n",
      "d-r--          11/22/2023  8:58 AM                \u001b[44;1mDownloads\u001b[0m\n",
      "d-r--           9/13/2023  8:32 AM                \u001b[44;1mFavorites\u001b[0m\n",
      "d-r--           9/13/2023  8:32 AM                \u001b[44;1mLinks\u001b[0m\n",
      "l--hs           9/13/2023  8:32 AM                \u001b[36;1mLocal Settings\u001b[0m -> C:\\Users\\W0446744\\AppData\\Local\n",
      "d-r--           9/13/2023  8:32 AM                \u001b[44;1mMusic\u001b[0m\n",
      "l--hs           9/13/2023  8:32 AM                \u001b[36;1mMy Documents\u001b[0m -> C:\\Users\\W0446744\\Documents\n",
      "l--hs           9/13/2023  8:32 AM                \u001b[36;1mNetHood \u001b[0m\u001b[36;1m\u001b[0m-> \u001b[0m\u001b[36;1m\u001b[0mC:\\Users\\W0446744\\AppData\\Roaming\\Micr\u001b[0m\n",
      "                                                  \u001b[36;1m\u001b[0mosoft\\Windows\\Network \u001b[0m\u001b[36;1m\u001b[0mShortcuts\u001b[0m\n",
      "d-r--           9/13/2023  8:34 AM                \u001b[44;1mOneDrive\u001b[0m\n",
      "d-r--           9/13/2023  8:33 AM                \u001b[44;1mPictures\u001b[0m\n",
      "l--hs           9/13/2023  8:32 AM                \u001b[36;1mPrintHood \u001b[0m\u001b[36;1m\u001b[0m-> \u001b[0m\u001b[36;1m\u001b[0mC:\\Users\\W0446744\\AppData\\Roaming\\Mi\u001b[0m\n",
      "                                                  \u001b[36;1m\u001b[0mcrosoft\\Windows\\Printer \u001b[0m\u001b[36;1m\u001b[0mShortcuts\u001b[0m\n",
      "l--hs           9/13/2023  8:32 AM                \u001b[36;1mRecent \u001b[0m\u001b[36;1m\u001b[0m-> \u001b[0m\u001b[36;1m\u001b[0mC:\\Users\\W0446744\\AppData\\Roaming\\Micro\u001b[0m\n",
      "                                                  \u001b[36;1m\u001b[0msoft\\Windows\\Recent\u001b[0m\n",
      "d-r--           9/13/2023  8:32 AM                \u001b[44;1mSaved Games\u001b[0m\n",
      "d-r--           9/13/2023  8:33 AM                \u001b[44;1mSearches\u001b[0m\n",
      "l--hs           9/13/2023  8:32 AM                \u001b[36;1mSendTo \u001b[0m\u001b[36;1m\u001b[0m-> \u001b[0m\u001b[36;1m\u001b[0mC:\\Users\\W0446744\\AppData\\Roaming\\Micro\u001b[0m\n",
      "                                                  \u001b[36;1m\u001b[0msoft\\Windows\\SendTo\u001b[0m\n",
      "l--hs           9/13/2023  8:32 AM                \u001b[36;1mStart \u001b[0m\u001b[36;1mMenu \u001b[0m\u001b[36;1m\u001b[0m-> \u001b[0m\u001b[36;1m\u001b[0mC:\\Users\\W0446744\\AppData\\Roaming\\M\u001b[0m\n",
      "                                                  \u001b[36;1m\u001b[0microsoft\\Windows\\Start \u001b[0m\u001b[36;1m\u001b[0mMenu\u001b[0m\n",
      "l--hs           9/13/2023  8:32 AM                \u001b[36;1mTemplates \u001b[0m\u001b[36;1m\u001b[0m-> \u001b[0m\u001b[36;1m\u001b[0mC:\\Users\\W0446744\\AppData\\Roaming\\Mi\u001b[0m\n",
      "                                                  \u001b[36;1m\u001b[0mcrosoft\\Windows\\Templates\u001b[0m\n",
      "d-r--           9/22/2023  8:29 AM                \u001b[44;1mVideos\u001b[0m\n",
      "-a---           9/15/2023 10:13 AM            196 .gitconfig\n",
      "-a---           9/18/2023  3:00 PM             20 .lesshst\n",
      "-a-h-          11/20/2023  4:53 PM        1572864 NTUSER.DAT\n",
      "-a-hs           9/13/2023  8:32 AM         196608 ntuser.dat.LOG1\n",
      "-a-hs           9/13/2023  8:32 AM         421888 ntuser.dat.LOG2\n",
      "-a-hs           9/13/2023  8:32 AM          65536 NTUSER.DAT{53b39e88-18c4-11ea-a811-000d3aa4692b}.\n",
      "                                                  TM.blf\n",
      "-a-hs           9/13/2023  8:32 AM         524288 NTUSER.DAT{53b39e88-18c4-11ea-a811-000d3aa4692b}.\n",
      "                                                  TMContainer00000000000000000001.regtrans-ms\n",
      "-a-hs           9/13/2023  8:32 AM         524288 NTUSER.DAT{53b39e88-18c4-11ea-a811-000d3aa4692b}.\n",
      "                                                  TMContainer00000000000000000002.regtrans-ms\n",
      "---hs           9/13/2023  8:32 AM             20 ntuser.ini\n",
      "-a---           9/15/2023  8:56 AM           1728 PowerShellBasics.ipynb\n",
      "\n"
     ]
    }
   ],
   "source": [
    "Get-ChildItem -Path $Home -Force"
   ]
  },
  {
   "cell_type": "code",
   "execution_count": 15,
   "metadata": {
    "dotnet_interactive": {
     "language": "pwsh"
    },
    "polyglot_notebook": {
     "kernelName": "pwsh"
    },
    "vscode": {
     "languageId": "polyglot-notebook"
    }
   },
   "outputs": [
    {
     "name": "stdout",
     "output_type": "stream",
     "text": [
      "\n",
      "\u001b[32;1mPath\u001b[0m\n",
      "\u001b[32;1m----\u001b[0m\n",
      "Z:\\Prog1700\\Prog1700Docs\\PowerShellBasics\\Files\n",
      "Z:\\Prog1700\\Prog1700Docs\\PowerShellBasics\\Files\\temp.txt\n",
      "Z:\\Prog1700\\Prog1700Docs\\PowerShellBasics\\Files\n",
      "\n"
     ]
    }
   ],
   "source": [
    "Get-Location\n",
    "(Get-Location).Path + \"\\temp.txt\"\n",
    "$PWD"
   ]
  },
  {
   "cell_type": "code",
   "execution_count": 16,
   "metadata": {
    "dotnet_interactive": {
     "language": "pwsh"
    },
    "polyglot_notebook": {
     "kernelName": "pwsh"
    },
    "vscode": {
     "languageId": "polyglot-notebook"
    }
   },
   "outputs": [
    {
     "name": "stdout",
     "output_type": "stream",
     "text": [
      "\n",
      "\u001b[32;1mPath\u001b[0m\n",
      "\u001b[32;1m----\u001b[0m\n",
      "Z:\\Prog1700\\Prog1700Docs\\PowerShellBasics\\Files\\Emojis.PS1\n",
      "\n"
     ]
    }
   ],
   "source": [
    "Resolve-Path .\\Emojis.PS1"
   ]
  },
  {
   "cell_type": "code",
   "execution_count": 17,
   "metadata": {
    "dotnet_interactive": {
     "language": "pwsh"
    },
    "polyglot_notebook": {
     "kernelName": "pwsh"
    },
    "vscode": {
     "languageId": "polyglot-notebook"
    }
   },
   "outputs": [
    {
     "name": "stdout",
     "output_type": "stream",
     "text": [
      "True\r\n"
     ]
    }
   ],
   "source": [
    "Test-path .\\Emojis.PS1"
   ]
  },
  {
   "cell_type": "code",
   "execution_count": 20,
   "metadata": {
    "dotnet_interactive": {
     "language": "pwsh"
    },
    "polyglot_notebook": {
     "kernelName": "pwsh"
    },
    "vscode": {
     "languageId": "polyglot-notebook"
    }
   },
   "outputs": [
    {
     "name": "stdout",
     "output_type": "stream",
     "text": [
      "\n",
      "    Directory: Z:\\Prog1700\\Prog1700Docs\\PowerShellBasics\\Files\n",
      "\n",
      "\u001b[32;1mMode                 LastWriteTime         Length Name\u001b[0m\n",
      "\u001b[32;1m----                 -------------         ------ ----\u001b[0m\n",
      "-a---          11/22/2023  9:22 AM            331 \u001b[33;1mEmojis.PS1\u001b[0m\n",
      "\n",
      "\u001b[32;1mPSPath                  : \u001b[0mMicrosoft.PowerShell.Core\\FileSystem::Z:\\Prog1700\\Prog1700Docs\\PowerShell\n",
      "                          Basics\\Files\\Emojis.PS1\n",
      "\u001b[32;1mPSParentPath            : \u001b[0mMicrosoft.PowerShell.Core\\FileSystem::Z:\\Prog1700\\Prog1700Docs\\PowerShell\n",
      "                          Basics\\Files\n",
      "\u001b[32;1mPSChildName             : \u001b[0mEmojis.PS1\n",
      "\u001b[32;1mPSDrive                 : \u001b[0mZ\n",
      "\u001b[32;1mPSProvider              : \u001b[0mMicrosoft.PowerShell.Core\\FileSystem\n",
      "\u001b[32;1mCentralAccessPolicyId   : \u001b[0m\n",
      "\u001b[32;1mAccessRightType         : \u001b[0mSystem.Security.AccessControl.FileSystemRights\n",
      "\u001b[32;1mAccessRuleType          : \u001b[0mSystem.Security.AccessControl.FileSystemAccessRule\n",
      "\u001b[32;1mAuditRuleType           : \u001b[0mSystem.Security.AccessControl.FileSystemAuditRule\n",
      "\u001b[32;1mAreAccessRulesProtected : \u001b[0mFalse\n",
      "\u001b[32;1mAreAuditRulesProtected  : \u001b[0mFalse\n",
      "\u001b[32;1mAreAccessRulesCanonical : \u001b[0mTrue\n",
      "\u001b[32;1mAreAuditRulesCanonical  : \u001b[0mTrue\n",
      "\u001b[32;1mPath                    : \u001b[0mMicrosoft.PowerShell.Core\\FileSystem::Z:\\Prog1700\\Prog1700Docs\\PowerShell\n",
      "                          Basics\\Files\\Emojis.PS1\n",
      "\u001b[32;1mOwner                   : \u001b[0mEveryone\n",
      "\u001b[32;1mGroup                   : \u001b[0mEveryone\n",
      "\u001b[32;1mAccess                  : \u001b[0m{System.Security.AccessControl.FileSystemAccessRule}\n",
      "\u001b[32;1mSddl                    : \u001b[0mO:WDG:WD\n",
      "\u001b[32;1mAccessToString          : \u001b[0mEveryone Allow  -1\n",
      "\u001b[32;1mAuditToString           : \u001b[0m\n",
      "\n",
      "\n"
     ]
    }
   ],
   "source": [
    "Get-Item .\\Emojis.PS1\n",
    "Get-ACL .\\Emojis.PS1"
   ]
  },
  {
   "cell_type": "code",
   "execution_count": 25,
   "metadata": {
    "dotnet_interactive": {
     "language": "pwsh"
    },
    "polyglot_notebook": {
     "kernelName": "pwsh"
    },
    "vscode": {
     "languageId": "polyglot-notebook"
    }
   },
   "outputs": [],
   "source": [
    "Copy-item .\\Emojis.PS1 .\\Emojis.PS1.backup\n",
    "Copy-item ..\\Files -Recurse ..\\Files.Backup"
   ]
  },
  {
   "cell_type": "code",
   "execution_count": 26,
   "metadata": {
    "dotnet_interactive": {
     "language": "pwsh"
    },
    "polyglot_notebook": {
     "kernelName": "pwsh"
    },
    "vscode": {
     "languageId": "polyglot-notebook"
    }
   },
   "outputs": [],
   "source": [
    "Remove-Item .\\Emojis.PS1.Backup"
   ]
  },
  {
   "cell_type": "code",
   "execution_count": 27,
   "metadata": {
    "dotnet_interactive": {
     "language": "pwsh"
    },
    "polyglot_notebook": {
     "kernelName": "pwsh"
    },
    "vscode": {
     "languageId": "polyglot-notebook"
    }
   },
   "outputs": [
    {
     "name": "stdout",
     "output_type": "stream",
     "text": [
      "\n",
      "    Directory: Z:\\Prog1700\\Prog1700Docs\\PowerShellBasics\\Files\n",
      "\n",
      "\u001b[32;1mMode                 LastWriteTime         Length Name\u001b[0m\n",
      "\u001b[32;1m----                 -------------         ------ ----\u001b[0m\n",
      "-a---          11/22/2023  9:51 AM              0 Temp.txt\n",
      "\n"
     ]
    }
   ],
   "source": [
    "New-Item -Itemtype File -Path .\\Temp.txt"
   ]
  },
  {
   "cell_type": "code",
   "execution_count": 30,
   "metadata": {
    "dotnet_interactive": {
     "language": "pwsh"
    },
    "polyglot_notebook": {
     "kernelName": "pwsh"
    },
    "vscode": {
     "languageId": "polyglot-notebook"
    }
   },
   "outputs": [],
   "source": [
    "rename-Item .\\Temp.txt .\\NotsoTemp.txt"
   ]
  },
  {
   "cell_type": "code",
   "execution_count": 31,
   "metadata": {
    "dotnet_interactive": {
     "language": "pwsh"
    },
    "polyglot_notebook": {
     "kernelName": "pwsh"
    },
    "vscode": {
     "languageId": "polyglot-notebook"
    }
   },
   "outputs": [],
   "source": [
    "Move-Item .\\NotsoTemp.txt .\\Temp"
   ]
  },
  {
   "cell_type": "code",
   "execution_count": 32,
   "metadata": {
    "dotnet_interactive": {
     "language": "pwsh"
    },
    "polyglot_notebook": {
     "kernelName": "pwsh"
    },
    "vscode": {
     "languageId": "polyglot-notebook"
    }
   },
   "outputs": [],
   "source": [
    "Invoke-Item .\\NotTemp.txt"
   ]
  },
  {
   "cell_type": "code",
   "execution_count": 1,
   "metadata": {
    "dotnet_interactive": {
     "language": "pwsh"
    },
    "polyglot_notebook": {
     "kernelName": "pwsh"
    },
    "vscode": {
     "languageId": "polyglot-notebook"
    }
   },
   "outputs": [
    {
     "name": "stdout",
     "output_type": "stream",
     "text": [
      "Something to read, so i can read the file of text to read its text.\n",
      "Something to read, so i can read the file of text to read its text.\n",
      "Something to read, so i can read the file of text to read its text.\n"
     ]
    }
   ],
   "source": [
    "Cat .\\Test.txt\n",
    "type .\\Test.txt\n",
    "Get-Content .\\Test.txt"
   ]
  },
  {
   "cell_type": "code",
   "execution_count": 2,
   "metadata": {
    "dotnet_interactive": {
     "language": "pwsh"
    },
    "polyglot_notebook": {
     "kernelName": "pwsh"
    },
    "vscode": {
     "languageId": "polyglot-notebook"
    }
   },
   "outputs": [
    {
     "name": "stdout",
     "output_type": "stream",
     "text": [
      "Something to read, so i can read the file of text to read its text.\r\n"
     ]
    }
   ],
   "source": [
    "$Contents = Get-Content .\\Test.txt\n",
    "$Contents"
   ]
  },
  {
   "cell_type": "code",
   "execution_count": 5,
   "metadata": {
    "dotnet_interactive": {
     "language": "pwsh"
    },
    "polyglot_notebook": {
     "kernelName": "pwsh"
    },
    "vscode": {
     "languageId": "polyglot-notebook"
    }
   },
   "outputs": [],
   "source": [
    "\"This is content.....\" | out-file \"Out.txt\"\n",
    "\"This is Content.....\" > \"Out.txt\"\n",
    "\"This is More Content\" >> \"out.txt\""
   ]
  },
  {
   "cell_type": "code",
   "execution_count": 6,
   "metadata": {
    "dotnet_interactive": {
     "language": "pwsh"
    },
    "polyglot_notebook": {
     "kernelName": "pwsh"
    },
    "vscode": {
     "languageId": "polyglot-notebook"
    }
   },
   "outputs": [],
   "source": [
    "cat .\\Test.txt | Set-Clipboard"
   ]
  },
  {
   "cell_type": "code",
   "execution_count": 12,
   "metadata": {
    "dotnet_interactive": {
     "language": "pwsh"
    },
    "polyglot_notebook": {
     "kernelName": "pwsh"
    },
    "vscode": {
     "languageId": "polyglot-notebook"
    }
   },
   "outputs": [
    {
     "name": "stdout",
     "output_type": "stream",
     "text": [
      "CrappyDB.PS1\n",
      "Filename: Crappydb\n",
      "Filename: CrappyDB.PS1\n",
      "Filename: Emojis.PS1\n",
      "Filename: Filenames.txt\n",
      "Filename: Files.ipynb\n",
      "Filename: NotTemp.txt\n",
      "Filename: Out.txt\n",
      "Filename: Temp\n",
      "Filename: Test.txt\n"
     ]
    }
   ],
   "source": [
    "Get-ChildItem -Name | out-file \"Filenames.txt\"\n",
    "(Get-Content \".\\Filenames.txt\")[1]\n",
    "Foreach($filename in (Get-content \".\\Filenames.txt\")) {\n",
    "    \"Filename: $filename\"\n",
    "}"
   ]
  },
  {
   "cell_type": "code",
   "execution_count": 16,
   "metadata": {
    "dotnet_interactive": {
     "language": "pwsh"
    },
    "polyglot_notebook": {
     "kernelName": "pwsh"
    },
    "vscode": {
     "languageId": "polyglot-notebook"
    }
   },
   "outputs": [
    {
     "name": "stdout",
     "output_type": "stream",
     "text": [
      "\n",
      "\u001b[32;1mIsPublic IsSerial Name                                     BaseType\u001b[0m\n",
      "\u001b[32;1m-------- -------- ----                                     --------\u001b[0m\n",
      "True     True     String                                   System.Object\n",
      "\n"
     ]
    }
   ],
   "source": [
    "#Contents as a string\n",
    "$Text= (Get-Content .\\Filenames.txt -raw)\n",
    "$Text.gettype()"
   ]
  },
  {
   "cell_type": "code",
   "execution_count": 17,
   "metadata": {
    "dotnet_interactive": {
     "language": "pwsh"
    },
    "polyglot_notebook": {
     "kernelName": "pwsh"
    },
    "vscode": {
     "languageId": "polyglot-notebook"
    }
   },
   "outputs": [
    {
     "name": "stdout",
     "output_type": "stream",
     "text": [
      "\n",
      "#Create a Database\n",
      "Function Initialize-CrappyDB {\n"
     ]
    }
   ],
   "source": [
    "#Read three lines\n",
    "Get-Content \".\\CrappyDB.PS1\" -TotalCount 3"
   ]
  },
  {
   "cell_type": "code",
   "execution_count": 18,
   "metadata": {
    "dotnet_interactive": {
     "language": "pwsh"
    },
    "polyglot_notebook": {
     "kernelName": "pwsh"
    },
    "vscode": {
     "languageId": "polyglot-notebook"
    }
   },
   "outputs": [
    {
     "name": "stdout",
     "output_type": "stream",
     "text": [
      "\n",
      "#delete records from the database\n",
      "\n"
     ]
    }
   ],
   "source": [
    "#Read last three lines\n",
    "Get-Content \".\\CrappyDB.PS1\" -Tail 3"
   ]
  },
  {
   "cell_type": "code",
   "execution_count": 22,
   "metadata": {
    "dotnet_interactive": {
     "language": "pwsh"
    },
    "polyglot_notebook": {
     "kernelName": "pwsh"
    },
    "vscode": {
     "languageId": "polyglot-notebook"
    }
   },
   "outputs": [],
   "source": [
    "#Write to a file\n",
    "Set-Content -path .\\Test.txt -value \"Something new ... like content\""
   ]
  },
  {
   "cell_type": "code",
   "execution_count": 23,
   "metadata": {
    "dotnet_interactive": {
     "language": "pwsh"
    },
    "polyglot_notebook": {
     "kernelName": "pwsh"
    },
    "vscode": {
     "languageId": "polyglot-notebook"
    }
   },
   "outputs": [],
   "source": [
    "Add-Content -path .\\Test.txt -value \"added content\""
   ]
  },
  {
   "cell_type": "code",
   "execution_count": 24,
   "metadata": {
    "dotnet_interactive": {
     "language": "pwsh"
    },
    "polyglot_notebook": {
     "kernelName": "pwsh"
    },
    "vscode": {
     "languageId": "polyglot-notebook"
    }
   },
   "outputs": [],
   "source": [
    "$Array= 1,2,3,4,5\n",
    "Set-Content .\\Test.txt $Array\n"
   ]
  },
  {
   "cell_type": "code",
   "execution_count": 27,
   "metadata": {
    "dotnet_interactive": {
     "language": "pwsh"
    },
    "polyglot_notebook": {
     "kernelName": "pwsh"
    },
    "vscode": {
     "languageId": "polyglot-notebook"
    }
   },
   "outputs": [],
   "source": [
    "$fs = [System.io.streamwriter]::new(\"$pwd\\crappydb.txt\")\n",
    "$fs.WriteLine(\"From .NET StreamWriter\")\n",
    "$fs.Close()"
   ]
  },
  {
   "cell_type": "code",
   "execution_count": 30,
   "metadata": {
    "dotnet_interactive": {
     "language": "pwsh"
    },
    "polyglot_notebook": {
     "kernelName": "pwsh"
    },
    "vscode": {
     "languageId": "polyglot-notebook"
    }
   },
   "outputs": [
    {
     "name": "stdout",
     "output_type": "stream",
     "text": [
      "\u001b[31;1mMethodInvocationException: \u001b[31;1mException calling \".ctor\" with \"1\" argument(s): \"Could not find a part of the path 'Z:\\Prog1700\\Prog1700Docs\\PowerShellBasics\\Files\\crappdb\\Crappyb.txt'.\"\u001b[0m\n",
      "\u001b[31;1mInvalidOperation: \u001b[0m\n",
      "\u001b[31;1m\u001b[36;1mLine |\u001b[0m\n",
      "\u001b[31;1m\u001b[36;1m\u001b[36;1m   2 | \u001b[0m \u001b[36;1m$line = $fs.readline()\u001b[0m\n",
      "\u001b[31;1m\u001b[36;1m\u001b[36;1m\u001b[0m\u001b[36;1m\u001b[0m\u001b[36;1m     | \u001b[31;1m ~~~~~~~~~~~~~~~~~~~~~~\u001b[0m\n",
      "\u001b[31;1m\u001b[36;1m\u001b[36;1m\u001b[0m\u001b[36;1m\u001b[0m\u001b[36;1m\u001b[31;1m\u001b[31;1m\u001b[36;1m     | \u001b[31;1mMethod invocation failed because [System.IO.StreamWriter] does not contain a method named 'readline'.\u001b[0m\n",
      "\n",
      "\u001b[32;1mOverloadDefinitions\u001b[0m\n",
      "\u001b[32;1m-------------------\u001b[0m\n",
      "void Close()\n",
      "\n",
      "\n"
     ]
    },
    {
     "ename": "Error",
     "evalue": "Command failed: SubmitCode: $fs=[system.io.StreamReader]::new(\"$pwd\\crappdb\\Cr ...",
     "output_type": "error",
     "traceback": [
      "Command failed: SubmitCode: $fs=[system.io.StreamReader]::new(\"$pwd\\crappdb\\Cr ..."
     ]
    }
   ],
   "source": [
    "$fs=[system.io.StreamReader]::new(\"$pwd\\crappdb\\Crappyb.txt\")\n",
    "$line = $fs.readline()\n",
    "$line\n",
    "$fs.close\n"
   ]
  },
  {
   "cell_type": "code",
   "execution_count": 31,
   "metadata": {
    "dotnet_interactive": {
     "language": "pwsh"
    },
    "polyglot_notebook": {
     "kernelName": "pwsh"
    },
    "vscode": {
     "languageId": "polyglot-notebook"
    }
   },
   "outputs": [
    {
     "name": "stdout",
     "output_type": "stream",
     "text": [
      "\u001b[31;1mMethodInvocationException: \u001b[31;1mException calling \"ReadAllText\" with \"1\" argument(s): \"Could not find a part of the path 'Z:\\Prog1700\\Prog1700Docs\\PowerShellBasics\\Files\\crappdb\\Crappyb.txt'.\"\u001b[0m\r\n"
     ]
    },
    {
     "ename": "Error",
     "evalue": "Command failed: SubmitCode: [System.io.file]::ReadAlltext(\"$pwd\\crappdb\\Crappy ...",
     "output_type": "error",
     "traceback": [
      "Command failed: SubmitCode: [System.io.file]::ReadAlltext(\"$pwd\\crappdb\\Crappy ..."
     ]
    }
   ],
   "source": [
    "[System.io.file]::ReadAlltext(\"$pwd\\crappdb\\Crappyb.txt\")"
   ]
  },
  {
   "cell_type": "code",
   "execution_count": null,
   "metadata": {
    "dotnet_interactive": {
     "language": "pwsh"
    },
    "polyglot_notebook": {
     "kernelName": "pwsh"
    },
    "vscode": {
     "languageId": "polyglot-notebook"
    }
   },
   "outputs": [],
   "source": []
  }
 ],
 "metadata": {
  "language_info": {
   "name": "python"
  }
 },
 "nbformat": 4,
 "nbformat_minor": 2
}
