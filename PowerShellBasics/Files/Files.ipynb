{
 "cells": [
  {
   "cell_type": "code",
   "execution_count": 11,
   "metadata": {
    "dotnet_interactive": {
     "language": "pwsh"
    },
    "polyglot_notebook": {
     "kernelName": "pwsh"
    },
    "vscode": {
     "languageId": "polyglot-notebook"
    }
   },
   "outputs": [
    {
     "name": "stdout",
     "output_type": "stream",
     "text": [
      "🙈\n",
      "🙉\n",
      "🙊\n",
      "☠\n",
      "🎄\n",
      "🎅\n",
      "💩\n"
     ]
    }
   ],
   "source": [
    "\"`u{1F648}\"\n",
    "\"`u{1F649}\"\n",
    "\"`u{1F64A}\"\n",
    "\"`u{2620}\"\n",
    "\"`u{1F384}\"\n",
    "\"`u{1F385}\"\n",
    "\"`u{1F4A9}\""
   ]
  },
  {
   "cell_type": "code",
   "execution_count": 12,
   "metadata": {
    "dotnet_interactive": {
     "language": "pwsh"
    },
    "polyglot_notebook": {
     "kernelName": "pwsh"
    },
    "vscode": {
     "languageId": "polyglot-notebook"
    }
   },
   "outputs": [
    {
     "name": "stdout",
     "output_type": "stream",
     "text": [
      "\n",
      "    Directory: C:\\Users\\W0446744\n",
      "\n",
      "\u001b[32;1mMode                 LastWriteTime         Length Name\u001b[0m\n",
      "\u001b[32;1m----                 -------------         ------ ----\u001b[0m\n",
      "d----          11/22/2023  8:55 AM                \u001b[44;1m.dotnet\u001b[0m\n",
      "d----           9/13/2023 10:07 AM                \u001b[44;1m.ipynb_checkpoints\u001b[0m\n",
      "d----           9/13/2023  9:32 AM                \u001b[44;1m.ipython\u001b[0m\n",
      "d----           9/18/2023  1:39 PM                \u001b[44;1m.jupyter\u001b[0m\n",
      "d----           9/13/2023 10:10 AM                \u001b[44;1m.nuget\u001b[0m\n",
      "d----           9/13/2023 10:10 AM                \u001b[44;1m.templateengine\u001b[0m\n",
      "d----           9/13/2023  9:17 AM                \u001b[44;1m.vscode-insiders\u001b[0m\n",
      "d-r--           9/13/2023  8:32 AM                \u001b[44;1m3D Objects\u001b[0m\n",
      "d--h-           9/13/2023  8:32 AM                \u001b[44;1mAppData\u001b[0m\n",
      "l--hs           9/13/2023  8:32 AM                \u001b[36;1mApplication \u001b[0m\u001b[36;1mData \u001b[0m\u001b[36;1m\u001b[0m-> \u001b[0m\n",
      "                                                  \u001b[36;1m\u001b[0mC:\\Users\\W0446744\\AppData\\Roaming\u001b[0m\n",
      "d-r--           9/13/2023  8:32 AM                \u001b[44;1mContacts\u001b[0m\n",
      "l--hs           9/13/2023  8:32 AM                \u001b[36;1mCookies \u001b[0m\u001b[36;1m\u001b[0m-> \u001b[0m\u001b[36;1m\u001b[0mC:\\Users\\W0446744\\AppData\\Local\\Micros\u001b[0m\n",
      "                                                  \u001b[36;1m\u001b[0moft\\Windows\\INetCookies\u001b[0m\n",
      "d-r--           9/25/2023  2:52 PM                \u001b[44;1mDesktop\u001b[0m\n",
      "d-r--          11/15/2023  8:37 AM                \u001b[44;1mDocuments\u001b[0m\n",
      "d-r--          11/22/2023  8:58 AM                \u001b[44;1mDownloads\u001b[0m\n",
      "d-r--           9/13/2023  8:32 AM                \u001b[44;1mFavorites\u001b[0m\n",
      "d-r--           9/13/2023  8:32 AM                \u001b[44;1mLinks\u001b[0m\n",
      "l--hs           9/13/2023  8:32 AM                \u001b[36;1mLocal Settings\u001b[0m -> C:\\Users\\W0446744\\AppData\\Local\n",
      "d-r--           9/13/2023  8:32 AM                \u001b[44;1mMusic\u001b[0m\n",
      "l--hs           9/13/2023  8:32 AM                \u001b[36;1mMy Documents\u001b[0m -> C:\\Users\\W0446744\\Documents\n",
      "l--hs           9/13/2023  8:32 AM                \u001b[36;1mNetHood \u001b[0m\u001b[36;1m\u001b[0m-> \u001b[0m\u001b[36;1m\u001b[0mC:\\Users\\W0446744\\AppData\\Roaming\\Micr\u001b[0m\n",
      "                                                  \u001b[36;1m\u001b[0mosoft\\Windows\\Network \u001b[0m\u001b[36;1m\u001b[0mShortcuts\u001b[0m\n",
      "d-r--           9/13/2023  8:34 AM                \u001b[44;1mOneDrive\u001b[0m\n",
      "d-r--           9/13/2023  8:33 AM                \u001b[44;1mPictures\u001b[0m\n",
      "l--hs           9/13/2023  8:32 AM                \u001b[36;1mPrintHood \u001b[0m\u001b[36;1m\u001b[0m-> \u001b[0m\u001b[36;1m\u001b[0mC:\\Users\\W0446744\\AppData\\Roaming\\Mi\u001b[0m\n",
      "                                                  \u001b[36;1m\u001b[0mcrosoft\\Windows\\Printer \u001b[0m\u001b[36;1m\u001b[0mShortcuts\u001b[0m\n",
      "l--hs           9/13/2023  8:32 AM                \u001b[36;1mRecent \u001b[0m\u001b[36;1m\u001b[0m-> \u001b[0m\u001b[36;1m\u001b[0mC:\\Users\\W0446744\\AppData\\Roaming\\Micro\u001b[0m\n",
      "                                                  \u001b[36;1m\u001b[0msoft\\Windows\\Recent\u001b[0m\n",
      "d-r--           9/13/2023  8:32 AM                \u001b[44;1mSaved Games\u001b[0m\n",
      "d-r--           9/13/2023  8:33 AM                \u001b[44;1mSearches\u001b[0m\n",
      "l--hs           9/13/2023  8:32 AM                \u001b[36;1mSendTo \u001b[0m\u001b[36;1m\u001b[0m-> \u001b[0m\u001b[36;1m\u001b[0mC:\\Users\\W0446744\\AppData\\Roaming\\Micro\u001b[0m\n",
      "                                                  \u001b[36;1m\u001b[0msoft\\Windows\\SendTo\u001b[0m\n",
      "l--hs           9/13/2023  8:32 AM                \u001b[36;1mStart \u001b[0m\u001b[36;1mMenu \u001b[0m\u001b[36;1m\u001b[0m-> \u001b[0m\u001b[36;1m\u001b[0mC:\\Users\\W0446744\\AppData\\Roaming\\M\u001b[0m\n",
      "                                                  \u001b[36;1m\u001b[0microsoft\\Windows\\Start \u001b[0m\u001b[36;1m\u001b[0mMenu\u001b[0m\n",
      "l--hs           9/13/2023  8:32 AM                \u001b[36;1mTemplates \u001b[0m\u001b[36;1m\u001b[0m-> \u001b[0m\u001b[36;1m\u001b[0mC:\\Users\\W0446744\\AppData\\Roaming\\Mi\u001b[0m\n",
      "                                                  \u001b[36;1m\u001b[0mcrosoft\\Windows\\Templates\u001b[0m\n",
      "d-r--           9/22/2023  8:29 AM                \u001b[44;1mVideos\u001b[0m\n",
      "-a---           9/15/2023 10:13 AM            196 .gitconfig\n",
      "-a---           9/18/2023  3:00 PM             20 .lesshst\n",
      "-a-h-          11/20/2023  4:53 PM        1572864 NTUSER.DAT\n",
      "-a-hs           9/13/2023  8:32 AM         196608 ntuser.dat.LOG1\n",
      "-a-hs           9/13/2023  8:32 AM         421888 ntuser.dat.LOG2\n",
      "-a-hs           9/13/2023  8:32 AM          65536 NTUSER.DAT{53b39e88-18c4-11ea-a811-000d3aa4692b}.\n",
      "                                                  TM.blf\n",
      "-a-hs           9/13/2023  8:32 AM         524288 NTUSER.DAT{53b39e88-18c4-11ea-a811-000d3aa4692b}.\n",
      "                                                  TMContainer00000000000000000001.regtrans-ms\n",
      "-a-hs           9/13/2023  8:32 AM         524288 NTUSER.DAT{53b39e88-18c4-11ea-a811-000d3aa4692b}.\n",
      "                                                  TMContainer00000000000000000002.regtrans-ms\n",
      "---hs           9/13/2023  8:32 AM             20 ntuser.ini\n",
      "-a---           9/15/2023  8:56 AM           1728 PowerShellBasics.ipynb\n",
      "\n"
     ]
    }
   ],
   "source": [
    "Get-ChildItem -Path $Home -Force"
   ]
  },
  {
   "cell_type": "code",
   "execution_count": 15,
   "metadata": {
    "dotnet_interactive": {
     "language": "pwsh"
    },
    "polyglot_notebook": {
     "kernelName": "pwsh"
    },
    "vscode": {
     "languageId": "polyglot-notebook"
    }
   },
   "outputs": [
    {
     "name": "stdout",
     "output_type": "stream",
     "text": [
      "\n",
      "\u001b[32;1mPath\u001b[0m\n",
      "\u001b[32;1m----\u001b[0m\n",
      "Z:\\Prog1700\\Prog1700Docs\\PowerShellBasics\\Files\n",
      "Z:\\Prog1700\\Prog1700Docs\\PowerShellBasics\\Files\\temp.txt\n",
      "Z:\\Prog1700\\Prog1700Docs\\PowerShellBasics\\Files\n",
      "\n"
     ]
    }
   ],
   "source": [
    "Get-Location\n",
    "(Get-Location).Path + \"\\temp.txt\"\n",
    "$PWD"
   ]
  },
  {
   "cell_type": "code",
   "execution_count": 16,
   "metadata": {
    "dotnet_interactive": {
     "language": "pwsh"
    },
    "polyglot_notebook": {
     "kernelName": "pwsh"
    },
    "vscode": {
     "languageId": "polyglot-notebook"
    }
   },
   "outputs": [
    {
     "name": "stdout",
     "output_type": "stream",
     "text": [
      "\n",
      "\u001b[32;1mPath\u001b[0m\n",
      "\u001b[32;1m----\u001b[0m\n",
      "Z:\\Prog1700\\Prog1700Docs\\PowerShellBasics\\Files\\Emojis.PS1\n",
      "\n"
     ]
    }
   ],
   "source": [
    "Resolve-Path .\\Emojis.PS1"
   ]
  },
  {
   "cell_type": "code",
   "execution_count": 17,
   "metadata": {
    "dotnet_interactive": {
     "language": "pwsh"
    },
    "polyglot_notebook": {
     "kernelName": "pwsh"
    },
    "vscode": {
     "languageId": "polyglot-notebook"
    }
   },
   "outputs": [
    {
     "name": "stdout",
     "output_type": "stream",
     "text": [
      "True\r\n"
     ]
    }
   ],
   "source": [
    "Test-path .\\Emojis.PS1"
   ]
  },
  {
   "cell_type": "code",
   "execution_count": 20,
   "metadata": {
    "dotnet_interactive": {
     "language": "pwsh"
    },
    "polyglot_notebook": {
     "kernelName": "pwsh"
    },
    "vscode": {
     "languageId": "polyglot-notebook"
    }
   },
   "outputs": [
    {
     "name": "stdout",
     "output_type": "stream",
     "text": [
      "\n",
      "    Directory: Z:\\Prog1700\\Prog1700Docs\\PowerShellBasics\\Files\n",
      "\n",
      "\u001b[32;1mMode                 LastWriteTime         Length Name\u001b[0m\n",
      "\u001b[32;1m----                 -------------         ------ ----\u001b[0m\n",
      "-a---          11/22/2023  9:22 AM            331 \u001b[33;1mEmojis.PS1\u001b[0m\n",
      "\n",
      "\u001b[32;1mPSPath                  : \u001b[0mMicrosoft.PowerShell.Core\\FileSystem::Z:\\Prog1700\\Prog1700Docs\\PowerShell\n",
      "                          Basics\\Files\\Emojis.PS1\n",
      "\u001b[32;1mPSParentPath            : \u001b[0mMicrosoft.PowerShell.Core\\FileSystem::Z:\\Prog1700\\Prog1700Docs\\PowerShell\n",
      "                          Basics\\Files\n",
      "\u001b[32;1mPSChildName             : \u001b[0mEmojis.PS1\n",
      "\u001b[32;1mPSDrive                 : \u001b[0mZ\n",
      "\u001b[32;1mPSProvider              : \u001b[0mMicrosoft.PowerShell.Core\\FileSystem\n",
      "\u001b[32;1mCentralAccessPolicyId   : \u001b[0m\n",
      "\u001b[32;1mAccessRightType         : \u001b[0mSystem.Security.AccessControl.FileSystemRights\n",
      "\u001b[32;1mAccessRuleType          : \u001b[0mSystem.Security.AccessControl.FileSystemAccessRule\n",
      "\u001b[32;1mAuditRuleType           : \u001b[0mSystem.Security.AccessControl.FileSystemAuditRule\n",
      "\u001b[32;1mAreAccessRulesProtected : \u001b[0mFalse\n",
      "\u001b[32;1mAreAuditRulesProtected  : \u001b[0mFalse\n",
      "\u001b[32;1mAreAccessRulesCanonical : \u001b[0mTrue\n",
      "\u001b[32;1mAreAuditRulesCanonical  : \u001b[0mTrue\n",
      "\u001b[32;1mPath                    : \u001b[0mMicrosoft.PowerShell.Core\\FileSystem::Z:\\Prog1700\\Prog1700Docs\\PowerShell\n",
      "                          Basics\\Files\\Emojis.PS1\n",
      "\u001b[32;1mOwner                   : \u001b[0mEveryone\n",
      "\u001b[32;1mGroup                   : \u001b[0mEveryone\n",
      "\u001b[32;1mAccess                  : \u001b[0m{System.Security.AccessControl.FileSystemAccessRule}\n",
      "\u001b[32;1mSddl                    : \u001b[0mO:WDG:WD\n",
      "\u001b[32;1mAccessToString          : \u001b[0mEveryone Allow  -1\n",
      "\u001b[32;1mAuditToString           : \u001b[0m\n",
      "\n",
      "\n"
     ]
    }
   ],
   "source": [
    "Get-Item .\\Emojis.PS1\n",
    "Get-ACL .\\Emojis.PS1"
   ]
  },
  {
   "cell_type": "code",
   "execution_count": 25,
   "metadata": {
    "dotnet_interactive": {
     "language": "pwsh"
    },
    "polyglot_notebook": {
     "kernelName": "pwsh"
    },
    "vscode": {
     "languageId": "polyglot-notebook"
    }
   },
   "outputs": [],
   "source": [
    "Copy-item .\\Emojis.PS1 .\\Emojis.PS1.backup\n",
    "Copy-item ..\\Files -Recurse ..\\Files.Backup"
   ]
  },
  {
   "cell_type": "code",
   "execution_count": 26,
   "metadata": {
    "dotnet_interactive": {
     "language": "pwsh"
    },
    "polyglot_notebook": {
     "kernelName": "pwsh"
    },
    "vscode": {
     "languageId": "polyglot-notebook"
    }
   },
   "outputs": [],
   "source": [
    "Remove-Item .\\Emojis.PS1.Backup"
   ]
  },
  {
   "cell_type": "code",
   "execution_count": 27,
   "metadata": {
    "dotnet_interactive": {
     "language": "pwsh"
    },
    "polyglot_notebook": {
     "kernelName": "pwsh"
    },
    "vscode": {
     "languageId": "polyglot-notebook"
    }
   },
   "outputs": [
    {
     "name": "stdout",
     "output_type": "stream",
     "text": [
      "\n",
      "    Directory: Z:\\Prog1700\\Prog1700Docs\\PowerShellBasics\\Files\n",
      "\n",
      "\u001b[32;1mMode                 LastWriteTime         Length Name\u001b[0m\n",
      "\u001b[32;1m----                 -------------         ------ ----\u001b[0m\n",
      "-a---          11/22/2023  9:51 AM              0 Temp.txt\n",
      "\n"
     ]
    }
   ],
   "source": [
    "New-Item -Itemtype File -Path .\\Temp.txt"
   ]
  },
  {
   "cell_type": "code",
   "execution_count": 30,
   "metadata": {
    "dotnet_interactive": {
     "language": "pwsh"
    },
    "polyglot_notebook": {
     "kernelName": "pwsh"
    },
    "vscode": {
     "languageId": "polyglot-notebook"
    }
   },
   "outputs": [],
   "source": [
    "rename-Item .\\Temp.txt .\\NotsoTemp.txt"
   ]
  },
  {
   "cell_type": "code",
   "execution_count": 31,
   "metadata": {
    "dotnet_interactive": {
     "language": "pwsh"
    },
    "polyglot_notebook": {
     "kernelName": "pwsh"
    },
    "vscode": {
     "languageId": "polyglot-notebook"
    }
   },
   "outputs": [],
   "source": [
    "Move-Item .\\NotsoTemp.txt .\\Temp"
   ]
  },
  {
   "cell_type": "code",
   "execution_count": 32,
   "metadata": {
    "dotnet_interactive": {
     "language": "pwsh"
    },
    "polyglot_notebook": {
     "kernelName": "pwsh"
    },
    "vscode": {
     "languageId": "polyglot-notebook"
    }
   },
   "outputs": [],
   "source": [
    "Invoke-Item .\\NotTemp.txt"
   ]
  },
  {
   "cell_type": "code",
   "execution_count": null,
   "metadata": {
    "dotnet_interactive": {
     "language": "pwsh"
    },
    "polyglot_notebook": {
     "kernelName": "pwsh"
    },
    "vscode": {
     "languageId": "polyglot-notebook"
    }
   },
   "outputs": [],
   "source": []
  }
 ],
 "metadata": {
  "language_info": {
   "name": "python"
  }
 },
 "nbformat": 4,
 "nbformat_minor": 2
}
