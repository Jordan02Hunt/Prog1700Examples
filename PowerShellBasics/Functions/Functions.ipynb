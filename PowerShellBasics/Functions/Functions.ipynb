{
 "cells": [
  {
   "cell_type": "code",
   "execution_count": 7,
   "metadata": {
    "dotnet_interactive": {
     "language": "pwsh"
    },
    "polyglot_notebook": {
     "kernelName": "pwsh"
    },
    "vscode": {
     "languageId": "polyglot-notebook"
    }
   },
   "outputs": [
    {
     "name": "stdout",
     "output_type": "stream",
     "text": [
      "1136136929\r\n"
     ]
    }
   ],
   "source": [
    "#Gives a random Number from 0-1,147,483,647\n",
    "Get-Random"
   ]
  },
  {
   "cell_type": "code",
   "execution_count": 26,
   "metadata": {
    "dotnet_interactive": {
     "language": "pwsh"
    },
    "polyglot_notebook": {
     "kernelName": "pwsh"
    },
    "vscode": {
     "languageId": "polyglot-notebook"
    }
   },
   "outputs": [
    {
     "name": "stdout",
     "output_type": "stream",
     "text": [
      "8\n",
      "7\n"
     ]
    }
   ],
   "source": [
    "# Create a random number between 1 - 10\n",
    "(Get-Random) % 10 + 1\n",
    "Get-Random -minimum 1 -maximum 10"
   ]
  },
  {
   "cell_type": "code",
   "execution_count": 33,
   "metadata": {
    "dotnet_interactive": {
     "language": "pwsh"
    },
    "polyglot_notebook": {
     "kernelName": "pwsh"
    },
    "vscode": {
     "languageId": "polyglot-notebook"
    }
   },
   "outputs": [
    {
     "name": "stdout",
     "output_type": "stream",
     "text": [
      "Paper\r\n"
     ]
    }
   ],
   "source": [
    "#Pick a random item\n",
    "\"Rock\",\"Paper\",\"Scissors\" | Get-random"
   ]
  },
  {
   "cell_type": "code",
   "execution_count": 2,
   "metadata": {
    "dotnet_interactive": {
     "language": "pwsh"
    },
    "polyglot_notebook": {
     "kernelName": "pwsh"
    },
    "vscode": {
     "languageId": "polyglot-notebook"
    }
   },
   "outputs": [
    {
     "name": "stdout",
     "output_type": "stream",
     "text": [
      "Hello World\r\n"
     ]
    }
   ],
   "source": [
    "#Basic Function\n",
    "function Write-HelloWorld {\n",
    "    Write-Host \"Hello World\"\n",
    "}\n",
    "Write-HelloWorld"
   ]
  },
  {
   "cell_type": "code",
   "execution_count": 5,
   "metadata": {
    "dotnet_interactive": {
     "language": "pwsh"
    },
    "polyglot_notebook": {
     "kernelName": "pwsh"
    },
    "vscode": {
     "languageId": "polyglot-notebook"
    }
   },
   "outputs": [
    {
     "name": "stdout",
     "output_type": "stream",
     "text": [
      "457\r\n"
     ]
    }
   ],
   "source": [
    "#Return Statements\n",
    "function Get-Number {\n",
    "    $random = Get-Random -minimum 1 -maximum 5\n",
    "    if($random -gt 2){\n",
    "        Return 123\n",
    "    }else{\n",
    "        Return 456\n",
    "    }\n",
    "    Write-Host \"How did I get here???\"\n",
    "    \n",
    "}\n",
    "$number = Get-number\n",
    "$number +=1\n",
    "$number"
   ]
  },
  {
   "cell_type": "code",
   "execution_count": 5,
   "metadata": {
    "dotnet_interactive": {
     "language": "pwsh"
    },
    "polyglot_notebook": {
     "kernelName": "pwsh"
    },
    "vscode": {
     "languageId": "polyglot-notebook"
    }
   },
   "outputs": [
    {
     "name": "stdout",
     "output_type": "stream",
     "text": [
      "3\r\n"
     ]
    }
   ],
   "source": [
    "#basic Parameters\n",
    "function Get-Sum ($a,$b) {\n",
    "    Return $a + $b\n",
    "}\n",
    "Get-Sum 1 2"
   ]
  },
  {
   "cell_type": "code",
   "execution_count": 7,
   "metadata": {
    "dotnet_interactive": {
     "language": "pwsh"
    },
    "polyglot_notebook": {
     "kernelName": "pwsh"
    },
    "vscode": {
     "languageId": "polyglot-notebook"
    }
   },
   "outputs": [
    {
     "name": "stdout",
     "output_type": "stream",
     "text": [
      "3\n",
      "HelloWorld\n"
     ]
    }
   ],
   "source": [
    "#Named Parameters\n",
    "function Get-Sum ($a,$b) {\n",
    "    Return $a + $b\n",
    "}\n",
    "Get-Sum -a 1 -b 2\n",
    "Get-Sum \"Hello\" \"World\""
   ]
  },
  {
   "cell_type": "code",
   "execution_count": 9,
   "metadata": {
    "dotnet_interactive": {
     "language": "pwsh"
    },
    "polyglot_notebook": {
     "kernelName": "pwsh"
    },
    "vscode": {
     "languageId": "polyglot-notebook"
    }
   },
   "outputs": [
    {
     "name": "stdout",
     "output_type": "stream",
     "text": [
      "3\r\n"
     ]
    }
   ],
   "source": [
    "#PowerShells preferred parameter list\n",
    "Function Get-Sum{\n",
    "    Param ([int]$a,[int]$b)\n",
    "    $a + $b\n",
    "}\n",
    "Get-Sum 1 2"
   ]
  },
  {
   "cell_type": "code",
   "execution_count": 10,
   "metadata": {
    "dotnet_interactive": {
     "language": "pwsh"
    },
    "polyglot_notebook": {
     "kernelName": "pwsh"
    },
    "vscode": {
     "languageId": "polyglot-notebook"
    }
   },
   "outputs": [
    {
     "name": "stdout",
     "output_type": "stream",
     "text": [
      "3\r\n"
     ]
    }
   ],
   "source": [
    "#Adding attributes to parameter\n",
    "Function Get-Sum{\n",
    "    Param (\n",
    "        [Parameter(Mandatory)]\n",
    "        [ValidateRange(1,10)]\n",
    "        [int]$a,\n",
    "        [ValidateRange(1,10)]\n",
    "        [Parameter(Mandatory)]\n",
    "        [int]$b\n",
    "        )\n",
    "    $a + $b\n",
    "}\n",
    "Get-Sum 1 2"
   ]
  },
  {
   "cell_type": "code",
   "execution_count": 13,
   "metadata": {
    "dotnet_interactive": {
     "language": "pwsh"
    },
    "polyglot_notebook": {
     "kernelName": "pwsh"
    },
    "vscode": {
     "languageId": "polyglot-notebook"
    }
   },
   "outputs": [
    {
     "name": "stdout",
     "output_type": "stream",
     "text": [
      "0\r\n"
     ]
    }
   ],
   "source": [
    "#Positional Parameters\n",
    "Function Get-sum{\n",
    "    $sum = 0\n",
    "    foreach ($arg in $arg) {\n",
    "        $sum +=$arg\n",
    "    }\n",
    "    Return $Sum\n",
    "}\n",
    "get-Sum 1 2 3 4 5 6 7 8 9 10"
   ]
  },
  {
   "cell_type": "code",
   "execution_count": 16,
   "metadata": {
    "dotnet_interactive": {
     "language": "pwsh"
    },
    "polyglot_notebook": {
     "kernelName": "pwsh"
    },
    "vscode": {
     "languageId": "polyglot-notebook"
    }
   },
   "outputs": [
    {
     "name": "stdout",
     "output_type": "stream",
     "text": [
      "ReadOnly Set\r\n"
     ]
    }
   ],
   "source": [
    "#Switch Parameters\n",
    "Function set-HardDriveReadOnly {\n",
    "    param(\n",
    "        [Switch] $ReadOnly,\n",
    "        [Switch] $writeonly,\n",
    "        [Switch] $remote,\n",
    "        [Switch] $protected)\n",
    "    if($ReadOnly){\n",
    "        Write-Host \"ReadOnly Set\"\n",
    "    }Else{\n",
    "        Write-host \"ReadOnly UnSet\"\n",
    "    }\n",
    "}\n",
    "Set-HardDriveReadOnly -readonly -writeonly -remote -protected"
   ]
  },
  {
   "cell_type": "code",
   "execution_count": 1,
   "metadata": {
    "dotnet_interactive": {
     "language": "pwsh"
    },
    "polyglot_notebook": {
     "kernelName": "pwsh"
    },
    "vscode": {
     "languageId": "polyglot-notebook"
    }
   },
   "outputs": [
    {
     "name": "stdout",
     "output_type": "stream",
     "text": [
      "before i = 10, f = 1, b = False, s = A String\n",
      "after i = 10, f = 1, b = False, s = A String\n"
     ]
    }
   ],
   "source": [
    "#By value\n",
    "function PassByValue ($integer, $decimal, $boolean, $string){\n",
    "    $integer++\n",
    "    $decimal*=[math]::PI\n",
    "    $boolean= -not $boolean\n",
    "    $string= \"A Different String\"\n",
    "}\n",
    "$i=10\n",
    "$f= 1.0\n",
    "$b= $false\n",
    "$s = \"A String\"\n",
    "\n",
    "write-host \"before i = $i, f = $f, b = $b, s = $s\"\n",
    "PassByValue $i $f $b $s\n",
    "write-host \"after i = $i, f = $f, b = $b, s = $s\""
   ]
  },
  {
   "cell_type": "code",
   "execution_count": 2,
   "metadata": {
    "dotnet_interactive": {
     "language": "pwsh"
    },
    "polyglot_notebook": {
     "kernelName": "pwsh"
    },
    "vscode": {
     "languageId": "polyglot-notebook"
    }
   },
   "outputs": [
    {
     "name": "stdout",
     "output_type": "stream",
     "text": [
      "before: a = [1 2 3 4 5], h = {\"banana\":\"Yellow\",\"apple\":\"red\"}\n",
      "after: a = [456 2 3 4 5 999], h = {\"apple\":\"red\",\"orange\":\"orange\",\"banana\":\"Yellow\"}\n"
     ]
    }
   ],
   "source": [
    "#Pass by reference\n",
    "function PassByReference ($array, $hashtable) {\n",
    "    $array[0]=234\n",
    "    $array+=999\n",
    "    $array[0]=456\n",
    "    $hashtable.orange= 'orange'\n",
    "\n",
    "    return $array\n",
    "}\n",
    "$a =1,2,3,4,5\n",
    "$h = @{ apple='red'; banana= 'Yellow'}\n",
    "\n",
    "write-host \"before: a = [$a], h = $($h | ConvertTo-json -compress)\"\n",
    "$a = PassByReference $a $h\n",
    "write-host \"after : a = [$a], h = $($h | ConvertTo-json -compress)\""
   ]
  },
  {
   "cell_type": "code",
   "execution_count": 7,
   "metadata": {
    "dotnet_interactive": {
     "language": "pwsh"
    },
    "polyglot_notebook": {
     "kernelName": "pwsh"
    },
    "vscode": {
     "languageId": "polyglot-notebook"
    }
   },
   "outputs": [
    {
     "name": "stdout",
     "output_type": "stream",
     "text": [
      "sum = 3, diff = -1, prod = 2, div = 0.5\r\n"
     ]
    }
   ],
   "source": [
    "# Multiple return values\n",
    "function Get-Math {\n",
    "    Param(\n",
    "        $a,\n",
    "        $b\n",
    "    )\n",
    "    return ($a+$b), ($a-$b), ($a*$b), ($a/$b)\n",
    "}\n",
    "$sum, $diff, $prod, $div=Get-Math -a 1 -b 2\n",
    "\"sum = $sum, diff = $diff, prod = $prod, div = $div\""
   ]
  },
  {
   "cell_type": "code",
   "execution_count": 9,
   "metadata": {
    "dotnet_interactive": {
     "language": "pwsh"
    },
    "polyglot_notebook": {
     "kernelName": "pwsh"
    },
    "vscode": {
     "languageId": "polyglot-notebook"
    }
   },
   "outputs": [
    {
     "name": "stdout",
     "output_type": "stream",
     "text": [
      "\n",
      "\u001b[32;1mName                           Value\u001b[0m\n",
      "\u001b[32;1m----                           -----\u001b[0m\n",
      "sum                            3\n",
      "prod                           2\n",
      "diff                           -1\n",
      "div                            0.5\n",
      "\n"
     ]
    }
   ],
   "source": [
    "# Multiple return values\n",
    "function Get-Math {\n",
    "    Param(\n",
    "        $a,\n",
    "        $b\n",
    "    )\n",
    "    return @{sum=($a+$b); diff=($a-$b); prod=($a*$b); div=($a/$b)}\n",
    "}\n",
    "Get-Math -a 1 -b 2"
   ]
  },
  {
   "cell_type": "code",
   "execution_count": 11,
   "metadata": {
    "dotnet_interactive": {
     "language": "pwsh"
    },
    "polyglot_notebook": {
     "kernelName": "pwsh"
    },
    "vscode": {
     "languageId": "polyglot-notebook"
    }
   },
   "outputs": [
    {
     "name": "stdout",
     "output_type": "stream",
     "text": [
      "3.14159265358979\n",
      "∞\n",
      "-∞\n",
      "∞\n"
     ]
    }
   ],
   "source": [
    "# Question: Can infinity be used\n",
    "$null\n",
    "[math]::PI\n",
    "[double]::PositiveInfinity\n",
    "[DOuble]::NegativeInfinity\n",
    "\n",
    "$a = 2\n",
    "$b = 0\n",
    "if($b -ne 0){\n",
    "    4a/$b\n",
    "}else{\n",
    "    [double]::PositiveInfinity\n",
    "}"
   ]
  },
  {
   "cell_type": "code",
   "execution_count": 1,
   "metadata": {
    "dotnet_interactive": {
     "language": "pwsh"
    },
    "polyglot_notebook": {
     "kernelName": "pwsh"
    },
    "vscode": {
     "languageId": "polyglot-notebook"
    }
   },
   "outputs": [
    {
     "name": "stdout",
     "output_type": "stream",
     "text": [
      "Adding\n",
      "Subtracting\n",
      "Multiplying\n",
      "Dividing\n",
      "sum = 3, diff = -1, prod = 2, div = 0.5\n"
     ]
    }
   ],
   "source": [
    "# Multiple return values\n",
    "function Get-Math {\n",
    "    Param(\n",
    "        $a,\n",
    "        $b\n",
    "    )\n",
    "    Write-host \"Adding\"\n",
    "    $a+$b\n",
    "    Write-host \"Subtracting\"\n",
    "    $a-$b\n",
    "    Write-host \"Multiplying\"\n",
    "    $a*$b\n",
    "    Write-host \"Dividing\"\n",
    "    $a/$b\n",
    "}\n",
    "$sum, $diff, $prod, $div=Get-Math -a 1 -b 2\n",
    "\"sum = $sum, diff = $diff, prod = $prod, div = $div\""
   ]
  },
  {
   "cell_type": "code",
   "execution_count": null,
   "metadata": {
    "dotnet_interactive": {
     "language": "pwsh"
    },
    "polyglot_notebook": {
     "kernelName": "pwsh"
    },
    "vscode": {
     "languageId": "polyglot-notebook"
    }
   },
   "outputs": [],
   "source": [
    "# "
   ]
  }
 ],
 "metadata": {
  "language_info": {
   "name": "python"
  }
 },
 "nbformat": 4,
 "nbformat_minor": 2
}
