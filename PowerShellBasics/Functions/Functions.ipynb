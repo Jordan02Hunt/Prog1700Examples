{
 "cells": [
  {
   "cell_type": "code",
   "execution_count": 7,
   "metadata": {
    "dotnet_interactive": {
     "language": "pwsh"
    },
    "polyglot_notebook": {
     "kernelName": "pwsh"
    },
    "vscode": {
     "languageId": "polyglot-notebook"
    }
   },
   "outputs": [
    {
     "name": "stdout",
     "output_type": "stream",
     "text": [
      "1136136929\r\n"
     ]
    }
   ],
   "source": [
    "#Gives a random Number from 0-1,147,483,647\n",
    "Get-Random"
   ]
  },
  {
   "cell_type": "code",
   "execution_count": 26,
   "metadata": {
    "dotnet_interactive": {
     "language": "pwsh"
    },
    "polyglot_notebook": {
     "kernelName": "pwsh"
    },
    "vscode": {
     "languageId": "polyglot-notebook"
    }
   },
   "outputs": [
    {
     "name": "stdout",
     "output_type": "stream",
     "text": [
      "8\n",
      "7\n"
     ]
    }
   ],
   "source": [
    "# Create a random number between 1 - 10\n",
    "(Get-Random) % 10 + 1\n",
    "Get-Random -minimum 1 -maximum 10"
   ]
  },
  {
   "cell_type": "code",
   "execution_count": 33,
   "metadata": {
    "dotnet_interactive": {
     "language": "pwsh"
    },
    "polyglot_notebook": {
     "kernelName": "pwsh"
    },
    "vscode": {
     "languageId": "polyglot-notebook"
    }
   },
   "outputs": [
    {
     "name": "stdout",
     "output_type": "stream",
     "text": [
      "Paper\r\n"
     ]
    }
   ],
   "source": [
    "#Pick a random item\n",
    "\"Rock\",\"Paper\",\"Scissors\" | Get-random"
   ]
  },
  {
   "cell_type": "code",
   "execution_count": 2,
   "metadata": {
    "dotnet_interactive": {
     "language": "pwsh"
    },
    "polyglot_notebook": {
     "kernelName": "pwsh"
    },
    "vscode": {
     "languageId": "polyglot-notebook"
    }
   },
   "outputs": [
    {
     "name": "stdout",
     "output_type": "stream",
     "text": [
      "Hello World\r\n"
     ]
    }
   ],
   "source": [
    "#Basic Function\n",
    "function Write-HelloWorld {\n",
    "    Write-Host \"Hello World\"\n",
    "}\n",
    "Write-HelloWorld"
   ]
  },
  {
   "cell_type": "code",
   "execution_count": 5,
   "metadata": {
    "dotnet_interactive": {
     "language": "pwsh"
    },
    "polyglot_notebook": {
     "kernelName": "pwsh"
    },
    "vscode": {
     "languageId": "polyglot-notebook"
    }
   },
   "outputs": [
    {
     "name": "stdout",
     "output_type": "stream",
     "text": [
      "457\r\n"
     ]
    }
   ],
   "source": [
    "#Return Statements\n",
    "function Get-Number {\n",
    "    $random = Get-Random -minimum 1 -maximum 5\n",
    "    if($random -gt 2){\n",
    "        Return 123\n",
    "    }else{\n",
    "        Return 456\n",
    "    }\n",
    "    Write-Host \"How did I get here???\"\n",
    "    \n",
    "}\n",
    "$number = Get-number\n",
    "$number +=1\n",
    "$number"
   ]
  },
  {
   "cell_type": "code",
   "execution_count": 5,
   "metadata": {
    "dotnet_interactive": {
     "language": "pwsh"
    },
    "polyglot_notebook": {
     "kernelName": "pwsh"
    },
    "vscode": {
     "languageId": "polyglot-notebook"
    }
   },
   "outputs": [
    {
     "name": "stdout",
     "output_type": "stream",
     "text": [
      "3\r\n"
     ]
    }
   ],
   "source": [
    "#basic Parameters\n",
    "function Get-Sum ($a,$b) {\n",
    "    Return $a + $b\n",
    "}\n",
    "Get-Sum 1 2"
   ]
  },
  {
   "cell_type": "code",
   "execution_count": 7,
   "metadata": {
    "dotnet_interactive": {
     "language": "pwsh"
    },
    "polyglot_notebook": {
     "kernelName": "pwsh"
    },
    "vscode": {
     "languageId": "polyglot-notebook"
    }
   },
   "outputs": [
    {
     "name": "stdout",
     "output_type": "stream",
     "text": [
      "3\n",
      "HelloWorld\n"
     ]
    }
   ],
   "source": [
    "#Named Parameters\n",
    "function Get-Sum ($a,$b) {\n",
    "    Return $a + $b\n",
    "}\n",
    "Get-Sum -a 1 -b 2\n",
    "Get-Sum \"Hello\" \"World\""
   ]
  },
  {
   "cell_type": "code",
   "execution_count": 9,
   "metadata": {
    "dotnet_interactive": {
     "language": "pwsh"
    },
    "polyglot_notebook": {
     "kernelName": "pwsh"
    },
    "vscode": {
     "languageId": "polyglot-notebook"
    }
   },
   "outputs": [
    {
     "name": "stdout",
     "output_type": "stream",
     "text": [
      "3\r\n"
     ]
    }
   ],
   "source": [
    "#PowerShells preferred parameter list\n",
    "Function Get-Sum{\n",
    "    Param ([int]$a,[int]$b)\n",
    "    $a + $b\n",
    "}\n",
    "Get-Sum 1 2"
   ]
  },
  {
   "cell_type": "code",
   "execution_count": 10,
   "metadata": {
    "dotnet_interactive": {
     "language": "pwsh"
    },
    "polyglot_notebook": {
     "kernelName": "pwsh"
    },
    "vscode": {
     "languageId": "polyglot-notebook"
    }
   },
   "outputs": [
    {
     "name": "stdout",
     "output_type": "stream",
     "text": [
      "3\r\n"
     ]
    }
   ],
   "source": [
    "#Adding attributes to parameter\n",
    "Function Get-Sum{\n",
    "    Param (\n",
    "        [Parameter(Mandatory)]\n",
    "        [ValidateRange(1,10)]\n",
    "        [int]$a,\n",
    "        [ValidateRange(1,10)]\n",
    "        [Parameter(Mandatory)]\n",
    "        [int]$b\n",
    "        )\n",
    "    $a + $b\n",
    "}\n",
    "Get-Sum 1 2"
   ]
  },
  {
   "cell_type": "code",
   "execution_count": 13,
   "metadata": {
    "dotnet_interactive": {
     "language": "pwsh"
    },
    "polyglot_notebook": {
     "kernelName": "pwsh"
    },
    "vscode": {
     "languageId": "polyglot-notebook"
    }
   },
   "outputs": [
    {
     "name": "stdout",
     "output_type": "stream",
     "text": [
      "0\r\n"
     ]
    }
   ],
   "source": [
    "#Positional Parameters\n",
    "Function Get-sum{\n",
    "    $sum = 0\n",
    "    foreach ($arg in $arg) {\n",
    "        $sum +=$arg\n",
    "    }\n",
    "    Return $Sum\n",
    "}\n",
    "get-Sum 1 2 3 4 5 6 7 8 9 10"
   ]
  },
  {
   "cell_type": "code",
   "execution_count": 14,
   "metadata": {
    "dotnet_interactive": {
     "language": "pwsh"
    },
    "polyglot_notebook": {
     "kernelName": "pwsh"
    },
    "vscode": {
     "languageId": "polyglot-notebook"
    }
   },
   "outputs": [
    {
     "name": "stdout",
     "output_type": "stream",
     "text": [
      "\u001b[31;1mParserError: \u001b[0m\n",
      "\u001b[31;1m\u001b[36;1mLine |\u001b[0m\n",
      "\u001b[31;1m\u001b[36;1m\u001b[36;1m   4 | \u001b[0m         [Switch] $ReadOnly\u001b[36;1m\u001b[0m\n",
      "\u001b[31;1m\u001b[36;1m\u001b[36;1m\u001b[0m\u001b[36;1m\u001b[0m\u001b[36;1m     | \u001b[31;1m                           ~\u001b[0m\n",
      "\u001b[31;1m\u001b[36;1m\u001b[36;1m\u001b[0m\u001b[36;1m\u001b[0m\u001b[36;1m\u001b[31;1m\u001b[31;1m\u001b[36;1m     | \u001b[31;1mMissing ')' in function parameter list.\u001b[0m\n"
     ]
    }
   ],
   "source": [
    "#Switch Parameters\n",
    "Function set-HardDriveReadOnly {\n",
    "    param(\n",
    "        [Switch] $ReadOnly\n",
    "        [Switch] $writeonly\n",
    "        [Switch] $remote\n",
    "        [Switch] $protected\n",
    "        )\n",
    "    if($ReadOnly){\n",
    "        Write-Host \"ReadOnly Set\"\n",
    "    }Else{\n",
    "        Write-host \"ReadOnly UnSet\"\n",
    "    }\n",
    "}\n",
    "Set-HardDriveReadOnly -readonly -writeonly -remote -protected"
   ]
  },
  {
   "cell_type": "code",
   "execution_count": null,
   "metadata": {
    "dotnet_interactive": {
     "language": "pwsh"
    },
    "polyglot_notebook": {
     "kernelName": "pwsh"
    },
    "vscode": {
     "languageId": "polyglot-notebook"
    }
   },
   "outputs": [],
   "source": []
  }
 ],
 "metadata": {
  "language_info": {
   "name": "python"
  }
 },
 "nbformat": 4,
 "nbformat_minor": 2
}
