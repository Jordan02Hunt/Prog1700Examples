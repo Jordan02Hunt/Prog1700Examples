{
 "cells": [
  {
   "cell_type": "markdown",
   "id": "b7c29b85-cfe9-4bc3-b3b4-26f0bdbad286",
   "metadata": {},
   "source": [
    "This is some sample text......"
   ]
  },
  {
   "cell_type": "code",
   "execution_count": 1,
   "metadata": {
    "dotnet_interactive": {
     "language": "pwsh"
    },
    "polyglot_notebook": {
     "kernelName": "pwsh"
    },
    "vscode": {
     "languageId": "polyglot-notebook"
    }
   },
   "outputs": [
    {
     "name": "stdout",
     "output_type": "stream",
     "text": [
      "Hello World\r\n"
     ]
    }
   ],
   "source": [
    "#this is my first powershell command\n",
    "write-host \"Hello World\""
   ]
  },
  {
   "cell_type": "code",
   "execution_count": 7,
   "metadata": {
    "dotnet_interactive": {
     "language": "pwsh"
    },
    "polyglot_notebook": {
     "kernelName": "pwsh"
    },
    "vscode": {
     "languageId": "polyglot-notebook"
    }
   },
   "outputs": [
    {
     "name": "stdout",
     "output_type": "stream",
     "text": [
      "this is the output\r\n"
     ]
    }
   ],
   "source": [
    "#Any text in double quotation marks\n",
    "Write-Host \"this is the output\"\n"
   ]
  },
  {
   "cell_type": "code",
   "execution_count": 8,
   "metadata": {
    "dotnet_interactive": {
     "language": "pwsh"
    },
    "polyglot_notebook": {
     "kernelName": "pwsh"
    },
    "vscode": {
     "languageId": "polyglot-notebook"
    }
   },
   "outputs": [
    {
     "name": "stdout",
     "output_type": "stream",
     "text": [
      "12345\n",
      "12345\n"
     ]
    }
   ],
   "source": [
    "#any numbers can be in eiher quotes or without\n",
    "Write-Host \"12345\"\n",
    "Write-Host 12345"
   ]
  },
  {
   "cell_type": "code",
   "execution_count": 10,
   "metadata": {
    "dotnet_interactive": {
     "language": "pwsh"
    },
    "polyglot_notebook": {
     "kernelName": "pwsh"
    },
    "vscode": {
     "languageId": "polyglot-notebook"
    }
   },
   "outputs": [
    {
     "name": "stdout",
     "output_type": "stream",
     "text": [
      "3\r\n"
     ]
    }
   ],
   "source": [
    "#add two numbers together\n",
    "Write-Host (1+2)"
   ]
  },
  {
   "cell_type": "code",
   "execution_count": 13,
   "metadata": {
    "dotnet_interactive": {
     "language": "pwsh"
    },
    "polyglot_notebook": {
     "kernelName": "pwsh"
    },
    "vscode": {
     "languageId": "polyglot-notebook"
    }
   },
   "outputs": [
    {
     "name": "stdout",
     "output_type": "stream",
     "text": [
      "12\r\n"
     ]
    }
   ],
   "source": [
    "# concatenate two numbers together\n",
    "Write-Host (\"1\"+\"2\")"
   ]
  },
  {
   "cell_type": "code",
   "execution_count": 16,
   "metadata": {
    "dotnet_interactive": {
     "language": "pwsh"
    },
    "polyglot_notebook": {
     "kernelName": "pwsh"
    },
    "vscode": {
     "languageId": "polyglot-notebook"
    }
   },
   "outputs": [
    {
     "name": "stdout",
     "output_type": "stream",
     "text": [
      "street Number: 123\n",
      "Street Number: 123 Somewhere Ave.\n",
      "Street Number: 123 Somewhere Ave.\n"
     ]
    }
   ],
   "source": [
    "# combine numbers and text together\n",
    "Write-Host \"street Number:\" 123\n",
    "Write-Host \"Street Number:\" 123 \"Somewhere Ave.\"\n",
    "Write-Host \"Street Number: 123 Somewhere Ave.\""
   ]
  },
  {
   "cell_type": "code",
   "execution_count": 17,
   "metadata": {
    "dotnet_interactive": {
     "language": "pwsh"
    },
    "polyglot_notebook": {
     "kernelName": "pwsh"
    },
    "vscode": {
     "languageId": "polyglot-notebook"
    }
   },
   "outputs": [
    {
     "name": "stdout",
     "output_type": "stream",
     "text": [
      "Jordan\r\n"
     ]
    }
   ],
   "source": [
    "# get input form the user\n",
    "Read-Host \"Enter your Name:\""
   ]
  },
  {
   "cell_type": "code",
   "execution_count": 4,
   "metadata": {
    "dotnet_interactive": {
     "language": "pwsh"
    },
    "polyglot_notebook": {
     "kernelName": "pwsh"
    },
    "vscode": {
     "languageId": "polyglot-notebook"
    }
   },
   "outputs": [],
   "source": [
    "# a simple variable \n",
    "$x = 5\n",
    "$Name = \"Jordan\""
   ]
  },
  {
   "cell_type": "code",
   "execution_count": 5,
   "metadata": {
    "dotnet_interactive": {
     "language": "pwsh"
    },
    "polyglot_notebook": {
     "kernelName": "pwsh"
    },
    "vscode": {
     "languageId": "polyglot-notebook"
    }
   },
   "outputs": [
    {
     "name": "stdout",
     "output_type": "stream",
     "text": [
      "\n",
      "\u001b[32;1mName                           Value\u001b[0m\n",
      "\u001b[32;1m----                           -----\u001b[0m\n",
      "?                              True\n",
      "^                              $x\n",
      "$                              Jordan\n",
      "args                           {}\n",
      "ConfirmPreference              High\n",
      "DebugPreference                SilentlyContinue\n",
      "EnabledExperimentalFeatures    {}\n",
      "Error                          {}\n",
      "ErrorActionPreference          Continue\n",
      "ErrorView                      ConciseView\n",
      "ExecutionContext               System.Management.Automation.EngineIntrinsics\n",
      "false                          False\n",
      "FormatEnumerationLimit         4\n",
      "HOME                           C:\\Users\\W0446744\n",
      "Host                           System.Management.Automation.Internal.Host.InternalHost\n",
      "I_LIKE_PIE                     Blueberry\n",
      "InformationPreference          SilentlyContinue\n",
      "input                          System.Collections.ArrayList+ArrayListEnumeratorSimple\n",
      "IsCoreCLR                      True\n",
      "IsLinux                        False\n",
      "IsMacOS                        False\n",
      "IsWindows                      True\n",
      "MaximumHistoryCount            4096\n",
      "MyInvocation                   System.Management.Automation.InvocationInfo\n",
      "Name                           Jordan\n",
      "NestedPromptLevel              0\n",
      "null                           \n",
      "OutputEncoding                 System.Text.UTF8Encoding\n",
      "PID                            6036\n",
      "PROFILE                        C:\\Users\\W0446744\\Documents\\PowerShell\\Microsoft.dotnet-interactive…\n",
      "ProgressPreference             Continue\n",
      "PSBoundParameters              {}\n",
      "PSCommandPath                  \n",
      "PSCulture                      en\n",
      "PSDefaultParameterValues       {}\n",
      "PSEdition                      Core\n",
      "PSEmailServer                  \n",
      "PSHOME                         C:\\Users\\W0446744\\.nuget\\packages\\microsoft.dotnet-interactive\\1.0.…\n",
      "PSNativeCommandArgumentPassing Windows\n",
      "PSScriptRoot                   \n",
      "PSSessionApplicationName       wsman\n",
      "PSSessionConfigurationName     http://schemas.microsoft.com/powershell/Microsoft.PowerShell\n",
      "PSSessionOption                System.Management.Automation.Remoting.PSSessionOption\n",
      "PSStyle                        System.Management.Automation.PSStyle\n",
      "PSUICulture                    en\n",
      "PSVersionTable                 {[PSVersion, 7.3.6], [PSEdition, Core], [GitCommitId, 7.3.6], [OS, …\n",
      "PWD                            Z:\\Prog1700\\Prog1700Docs\\PowerShellBasics\n",
      "ShellId                        Microsoft.PowerShell\n",
      "StackTrace                     \n",
      "true                           True\n",
      "VerbosePreference              SilentlyContinue\n",
      "WarningPreference              Continue\n",
      "WhatIfPreference               False\n",
      "x                              5\n",
      "\n"
     ]
    }
   ],
   "source": [
    "#list all variables\n",
    "Get-Variable"
   ]
  },
  {
   "cell_type": "code",
   "execution_count": 6,
   "metadata": {
    "dotnet_interactive": {
     "language": "pwsh"
    },
    "polyglot_notebook": {
     "kernelName": "pwsh"
    },
    "vscode": {
     "languageId": "polyglot-notebook"
    }
   },
   "outputs": [],
   "source": [
    "#bad variables\n",
    "\n",
    "#don't use just a number\n",
    "#$5=126\n",
    "\n",
    "#don't use spaces\n",
    "#$\"Street Address\"= \"5685 leeds Street\"\n",
    "\n",
    "# Don't include special characters (!@#$%^&*()+={}/\\?)\n",
    "#$Money$= 126.45\n",
    "\n",
    "# an exception is undersocres (_)\n",
    "#$I_LIKE_PIE= \"Blueberry\"\n",
    "\n",
    "#Variales are case sensitive \n",
    "\n",
    "#Use complete words not acronyms unless they are understood globally\n",
    "#1-3 Words used when naming variables is Good practice. Going beyond should only be used when nessecary.\n",
    "#Be descriptive as possible to make the scripts \"self documenting\"\n",
    "#This can be violated if they is already a known convention."
   ]
  },
  {
   "cell_type": "code",
   "execution_count": 8,
   "metadata": {
    "dotnet_interactive": {
     "language": "pwsh"
    },
    "polyglot_notebook": {
     "kernelName": "pwsh"
    },
    "vscode": {
     "languageId": "polyglot-notebook"
    }
   },
   "outputs": [
    {
     "name": "stdout",
     "output_type": "stream",
     "text": [
      "True\n",
      "False\n"
     ]
    }
   ],
   "source": [
    "#Boolean Values\n",
    "$true\n",
    "$false"
   ]
  },
  {
   "cell_type": "code",
   "execution_count": 10,
   "metadata": {
    "dotnet_interactive": {
     "language": "pwsh"
    },
    "polyglot_notebook": {
     "kernelName": "pwsh"
    },
    "vscode": {
     "languageId": "polyglot-notebook"
    }
   },
   "outputs": [
    {
     "name": "stdout",
     "output_type": "stream",
     "text": [
      "5552121 System.Int32\r\n"
     ]
    }
   ],
   "source": [
    "$PhoneNumber=5552121\n",
    "Write-Host $PhoneNumber $PhoneNumber.GetType()\n"
   ]
  },
  {
   "cell_type": "code",
   "execution_count": 11,
   "metadata": {
    "dotnet_interactive": {
     "language": "pwsh"
    },
    "polyglot_notebook": {
     "kernelName": "pwsh"
    },
    "vscode": {
     "languageId": "polyglot-notebook"
    }
   },
   "outputs": [
    {
     "name": "stdout",
     "output_type": "stream",
     "text": [
      "5552121 System.Double\r\n"
     ]
    }
   ],
   "source": [
    "[Double]$PhoneNumber=5552121\n",
    "Write-Host $PhoneNumber $PhoneNumber.GetType()"
   ]
  },
  {
   "cell_type": "code",
   "execution_count": 15,
   "metadata": {
    "dotnet_interactive": {
     "language": "pwsh"
    },
    "polyglot_notebook": {
     "kernelName": "pwsh"
    },
    "vscode": {
     "languageId": "polyglot-notebook"
    }
   },
   "outputs": [
    {
     "name": "stdout",
     "output_type": "stream",
     "text": [
      "555212 System.String\r\n"
     ]
    }
   ],
   "source": [
    "[String]$PhoneNumber=555212\n",
    "\n",
    "Write-Host $PhoneNumber $PhoneNumber.GetType()"
   ]
  },
  {
   "cell_type": "code",
   "execution_count": 16,
   "metadata": {
    "dotnet_interactive": {
     "language": "pwsh"
    },
    "polyglot_notebook": {
     "kernelName": "pwsh"
    },
    "vscode": {
     "languageId": "polyglot-notebook"
    }
   },
   "outputs": [
    {
     "name": "stdout",
     "output_type": "stream",
     "text": [
      "555212 System.Int32\r\n"
     ]
    }
   ],
   "source": [
    "[int]$PhoneNumber=555212\n",
    "\n",
    "Write-Host $PhoneNumber $PhoneNumber.GetType()"
   ]
  },
  {
   "cell_type": "code",
   "execution_count": 17,
   "metadata": {
    "dotnet_interactive": {
     "language": "pwsh"
    },
    "polyglot_notebook": {
     "kernelName": "pwsh"
    },
    "vscode": {
     "languageId": "polyglot-notebook"
    }
   },
   "outputs": [
    {
     "name": "stdout",
     "output_type": "stream",
     "text": [
      "True System.Boolean\r\n"
     ]
    }
   ],
   "source": [
    "[Boolean]$PhoneNumber=555212\n",
    "\n",
    "Write-Host $PhoneNumber $PhoneNumber.GetType()"
   ]
  },
  {
   "cell_type": "code",
   "execution_count": 19,
   "metadata": {
    "dotnet_interactive": {
     "language": "pwsh"
    },
    "polyglot_notebook": {
     "kernelName": "pwsh"
    },
    "vscode": {
     "languageId": "polyglot-notebook"
    }
   },
   "outputs": [
    {
     "name": "stdout",
     "output_type": "stream",
     "text": [
      "1024\n",
      "1048576\n",
      "1073741824\n",
      "1099511627776\n"
     ]
    }
   ],
   "source": [
    "#Datatype Multiplier\n",
    "1kb\n",
    "1mb\n",
    "1gb\n",
    "1tb\n"
   ]
  },
  {
   "cell_type": "code",
   "execution_count": 21,
   "metadata": {
    "dotnet_interactive": {
     "language": "pwsh"
    },
    "polyglot_notebook": {
     "kernelName": "pwsh"
    },
    "vscode": {
     "languageId": "polyglot-notebook"
    }
   },
   "outputs": [
    {
     "name": "stdout",
     "output_type": "stream",
     "text": [
      "36 TB\r\n"
     ]
    }
   ],
   "source": [
    "#go the other way\n",
    "$HardDrive=36Tb\n",
    "Write-Host ($HardDrive / 1Tb)TB"
   ]
  },
  {
   "cell_type": "code",
   "execution_count": 2,
   "metadata": {
    "dotnet_interactive": {
     "language": "pwsh"
    },
    "polyglot_notebook": {
     "kernelName": "pwsh"
    },
    "vscode": {
     "languageId": "polyglot-notebook"
    }
   },
   "outputs": [
    {
     "name": "stdout",
     "output_type": "stream",
     "text": [
      "16\r\n"
     ]
    }
   ],
   "source": [
    "[math]::pow(4,2)"
   ]
  },
  {
   "cell_type": "code",
   "execution_count": 4,
   "metadata": {
    "dotnet_interactive": {
     "language": "pwsh"
    },
    "polyglot_notebook": {
     "kernelName": "pwsh"
    },
    "vscode": {
     "languageId": "polyglot-notebook"
    }
   },
   "outputs": [
    {
     "name": "stdout",
     "output_type": "stream",
     "text": [
      "3.14159265358979\r\n"
     ]
    }
   ],
   "source": [
    "[math]::pi\n"
   ]
  },
  {
   "cell_type": "code",
   "execution_count": 5,
   "metadata": {
    "dotnet_interactive": {
     "language": "pwsh"
    },
    "polyglot_notebook": {
     "kernelName": "pwsh"
    },
    "vscode": {
     "languageId": "polyglot-notebook"
    }
   },
   "outputs": [
    {
     "name": "stdout",
     "output_type": "stream",
     "text": [
      "5\r\n"
     ]
    }
   ],
   "source": [
    "[math]::sqrt(25)"
   ]
  },
  {
   "cell_type": "code",
   "execution_count": 13,
   "metadata": {
    "dotnet_interactive": {
     "language": "pwsh"
    },
    "polyglot_notebook": {
     "kernelName": "pwsh"
    },
    "vscode": {
     "languageId": "polyglot-notebook"
    }
   },
   "outputs": [
    {
     "name": "stdout",
     "output_type": "stream",
     "text": [
      "4\r\n"
     ]
    }
   ],
   "source": [
    "$calculation = [math]::pi * 3 / 2\n",
    "[math]::Floor($calculation)"
   ]
  },
  {
   "cell_type": "code",
   "execution_count": 14,
   "metadata": {
    "dotnet_interactive": {
     "language": "pwsh"
    },
    "polyglot_notebook": {
     "kernelName": "pwsh"
    },
    "vscode": {
     "languageId": "polyglot-notebook"
    }
   },
   "outputs": [
    {
     "name": "stdout",
     "output_type": "stream",
     "text": [
      "5\r\n"
     ]
    }
   ],
   "source": [
    "$calculation = [math]::pi * 3 / 2\n",
    "[math]::ceiling($calculation)"
   ]
  },
  {
   "cell_type": "code",
   "execution_count": 15,
   "metadata": {
    "dotnet_interactive": {
     "language": "pwsh"
    },
    "polyglot_notebook": {
     "kernelName": "pwsh"
    },
    "vscode": {
     "languageId": "polyglot-notebook"
    }
   },
   "outputs": [
    {
     "name": "stdout",
     "output_type": "stream",
     "text": [
      "5\r\n"
     ]
    }
   ],
   "source": [
    "$calculation = [math]::pi * 3 / 2\n",
    "[math]::round($calculation)"
   ]
  },
  {
   "cell_type": "code",
   "execution_count": 16,
   "metadata": {
    "dotnet_interactive": {
     "language": "pwsh"
    },
    "polyglot_notebook": {
     "kernelName": "pwsh"
    },
    "vscode": {
     "languageId": "polyglot-notebook"
    }
   },
   "outputs": [
    {
     "name": "stdout",
     "output_type": "stream",
     "text": [
      "4.7124\r\n"
     ]
    }
   ],
   "source": [
    "$calculation = [math]::pi * 3 / 2\n",
    "[math]::round($calculation, 4)"
   ]
  },
  {
   "cell_type": "code",
   "execution_count": 3,
   "metadata": {
    "dotnet_interactive": {
     "language": "pwsh"
    },
    "polyglot_notebook": {
     "kernelName": "pwsh"
    },
    "vscode": {
     "languageId": "polyglot-notebook"
    }
   },
   "outputs": [
    {
     "name": "stdout",
     "output_type": "stream",
     "text": [
      "4\r\n"
     ]
    }
   ],
   "source": [
    "$sum = 1+ 2\n",
    "$sum +1\n"
   ]
  },
  {
   "cell_type": "code",
   "execution_count": 5,
   "metadata": {
    "dotnet_interactive": {
     "language": "pwsh"
    },
    "polyglot_notebook": {
     "kernelName": "pwsh"
    },
    "vscode": {
     "languageId": "polyglot-notebook"
    }
   },
   "outputs": [
    {
     "name": "stdout",
     "output_type": "stream",
     "text": [
      "hello world\r\n"
     ]
    }
   ],
   "source": [
    "#Create a string\n",
    "$text = 'hello world'\n",
    "$text"
   ]
  },
  {
   "cell_type": "code",
   "execution_count": 8,
   "metadata": {
    "dotnet_interactive": {
     "language": "pwsh"
    },
    "polyglot_notebook": {
     "kernelName": "pwsh"
    },
    "vscode": {
     "languageId": "polyglot-notebook"
    }
   },
   "outputs": [
    {
     "name": "stdout",
     "output_type": "stream",
     "text": [
      "helooworld\r\n"
     ]
    }
   ],
   "source": [
    "#concancenate\n",
    "$text = \"heloo\" + \"world\"\n",
    "$text\n"
   ]
  },
  {
   "cell_type": "code",
   "execution_count": 10,
   "metadata": {
    "dotnet_interactive": {
     "language": "pwsh"
    },
    "polyglot_notebook": {
     "kernelName": "pwsh"
    },
    "vscode": {
     "languageId": "polyglot-notebook"
    }
   },
   "outputs": [
    {
     "name": "stdout",
     "output_type": "stream",
     "text": [
      "Price123.45\r\n"
     ]
    }
   ],
   "source": [
    "#concancenate strings and numbers\n",
    "$price = \"Price\" + 123.45\n",
    "$price"
   ]
  },
  {
   "cell_type": "code",
   "execution_count": 11,
   "metadata": {
    "dotnet_interactive": {
     "language": "pwsh"
    },
    "polyglot_notebook": {
     "kernelName": "pwsh"
    },
    "vscode": {
     "languageId": "polyglot-notebook"
    }
   },
   "outputs": [
    {
     "name": "stdout",
     "output_type": "stream",
     "text": [
      "\u001b[31;1mInvalidArgument: \u001b[0m\n",
      "\u001b[31;1m\u001b[36;1mLine |\u001b[0m\n",
      "\u001b[31;1m\u001b[36;1m\u001b[36;1m   2 | \u001b[0m \u001b[36;1m$price = 123.45 + \"price\"\u001b[0m\n",
      "\u001b[31;1m\u001b[36;1m\u001b[36;1m\u001b[0m\u001b[36;1m\u001b[0m\u001b[36;1m     | \u001b[31;1m ~~~~~~~~~~~~~~~~~~~~~~~~~\u001b[0m\n",
      "\u001b[31;1m\u001b[36;1m\u001b[36;1m\u001b[0m\u001b[36;1m\u001b[0m\u001b[36;1m\u001b[31;1m\u001b[31;1m\u001b[36;1m     | \u001b[31;1mCannot convert value \"price\" to type \"System.Double\". Error: \"The input string 'price' was not in a correct format.\"\u001b[0m\n",
      "Price123.45\n"
     ]
    }
   ],
   "source": [
    "#concancenate strings and numbers in reverse\n",
    "#can't convertenumber first.\n",
    "$price = 123.45 + \"price\"\n",
    "$price"
   ]
  },
  {
   "cell_type": "code",
   "execution_count": 15,
   "metadata": {
    "dotnet_interactive": {
     "language": "pwsh"
    },
    "polyglot_notebook": {
     "kernelName": "pwsh"
    },
    "vscode": {
     "languageId": "polyglot-notebook"
    }
   },
   "outputs": [
    {
     "name": "stdout",
     "output_type": "stream",
     "text": [
      "sum =3\r\n"
     ]
    }
   ],
   "source": [
    "#concatenate a string a and calculations\n",
    "$answer = \"sum =\" + (1 + 2)\n",
    "$answer"
   ]
  },
  {
   "cell_type": "code",
   "execution_count": 21,
   "metadata": {
    "dotnet_interactive": {
     "language": "pwsh"
    },
    "polyglot_notebook": {
     "kernelName": "pwsh"
    },
    "vscode": {
     "languageId": "polyglot-notebook"
    }
   },
   "outputs": [
    {
     "name": "stdout",
     "output_type": "stream",
     "text": [
      "sum =3,diff =3,Product =3\r\n"
     ]
    }
   ],
   "source": [
    "$answer = \"sum =\" + (1 + 2) + \",diff =\" + (1 + 2) + \",Product =\" + (1 + 2)\n",
    "$answer"
   ]
  },
  {
   "cell_type": "code",
   "execution_count": 22,
   "metadata": {
    "dotnet_interactive": {
     "language": "pwsh"
    },
    "polyglot_notebook": {
     "kernelName": "pwsh"
    },
    "vscode": {
     "languageId": "polyglot-notebook"
    }
   },
   "outputs": [
    {
     "name": "stdout",
     "output_type": "stream",
     "text": [
      "sum = + 3 + ,diff = + 3 + ,Product = + 3\r\n"
     ]
    }
   ],
   "source": [
    "#formatted sting + write-Host\n",
    "write-host \"sum =\" + (1 + 2) + \",diff =\" + (1 + 2) + \",Product =\" + (1 + 2)"
   ]
  },
  {
   "cell_type": "code",
   "execution_count": 5,
   "metadata": {
    "dotnet_interactive": {
     "language": "pwsh"
    },
    "polyglot_notebook": {
     "kernelName": "pwsh"
    },
    "vscode": {
     "languageId": "polyglot-notebook"
    }
   },
   "outputs": [
    {
     "name": "stdout",
     "output_type": "stream",
     "text": [
      "dog\n",
      "dog\n",
      "cat dog mouse\n",
      "catmouse\n"
     ]
    }
   ],
   "source": [
    "#substrings\n",
    "\"cat dog mouse\".substring(4,3)\n",
    "$animals = \"cat dog mouse\"\n",
    "$animals.substring(4,3)\n",
    "$animals\n",
    "$animals.substring(0,3) + $animals.substring(8,5)"
   ]
  },
  {
   "cell_type": "code",
   "execution_count": 8,
   "metadata": {
    "dotnet_interactive": {
     "language": "pwsh"
    },
    "polyglot_notebook": {
     "kernelName": "pwsh"
    },
    "vscode": {
     "languageId": "polyglot-notebook"
    }
   },
   "outputs": [
    {
     "name": "stdout",
     "output_type": "stream",
     "text": [
      "Row Row Row your boat\r\n"
     ]
    }
   ],
   "source": [
    "#replication operator\n",
    "$song = \"Row \" * 3\n",
    "$song + \"your boat\""
   ]
  },
  {
   "cell_type": "code",
   "execution_count": null,
   "metadata": {
    "dotnet_interactive": {
     "language": "powershell"
    },
    "polyglot_notebook": {
     "kernelName": "powershell"
    },
    "vscode": {
     "languageId": "polyglot-notebook"
    }
   },
   "outputs": [],
   "source": []
  }
 ],
 "metadata": {
  "kernelspec": {
   "display_name": ".NET (PowerShell)",
   "language": "PowerShell",
   "name": ".net-powershell"
  },
  "language_info": {
   "file_extension": ".ps1",
   "mimetype": "text/x-powershell",
   "name": "PowerShell",
   "pygments_lexer": "powershell",
   "version": "7.0"
  }
 },
 "nbformat": 4,
 "nbformat_minor": 5
}
